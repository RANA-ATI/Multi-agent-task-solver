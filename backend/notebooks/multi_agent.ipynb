{
 "cells": [
  {
   "cell_type": "markdown",
   "id": "d18ad15e",
   "metadata": {},
   "source": [
    "# **Basic Multi Agent**"
   ]
  },
  {
   "cell_type": "markdown",
   "id": "49deb153",
   "metadata": {},
   "source": [
    "### **``Import the required packages``**"
   ]
  },
  {
   "cell_type": "code",
   "execution_count": 1,
   "id": "d1401032",
   "metadata": {},
   "outputs": [],
   "source": [
    "# Import equired packages\n",
    "from langgraph.graph import StateGraph, START, END\n",
    "from typing_extensions import TypedDict"
   ]
  },
  {
   "cell_type": "markdown",
   "id": "aa370c70",
   "metadata": {},
   "source": [
    "### **``Define a state schema.``**"
   ]
  },
  {
   "cell_type": "code",
   "execution_count": 2,
   "id": "4ff4b449",
   "metadata": {},
   "outputs": [],
   "source": [
    "# We will use a schema of type TypedDict. Create a class called MyGraphState with two variables. count of datatype int and msg of datatype str.\n",
    "\n",
    "# Create the structure of the schema for the graph.\n",
    "class MyGraphState(TypedDict):\n",
    "  count: int\n",
    "  msg: str"
   ]
  },
  {
   "cell_type": "markdown",
   "id": "26ac4765",
   "metadata": {},
   "source": [
    "### **``Define nodes``**"
   ]
  },
  {
   "cell_type": "code",
   "execution_count": 4,
   "id": "96ceff4c",
   "metadata": {},
   "outputs": [],
   "source": [
    "# We will define a function that will be used in multiple nodes in this graph.\n",
    "\n",
    "# Define your node\n",
    "def counter(state: MyGraphState):\n",
    "  state[\"count\"] += 1\n",
    "  state[\"msg\"] = f\"Counter function has been called {state['count']} time(s)\"\n",
    "  return state"
   ]
  },
  {
   "cell_type": "markdown",
   "id": "d8fec8c5",
   "metadata": {},
   "source": [
    "### **``Create a graph instance of StateGraph``**"
   ]
  },
  {
   "cell_type": "code",
   "execution_count": 5,
   "id": "9271d6f0",
   "metadata": {},
   "outputs": [],
   "source": [
    "# Create an instance of StateGraph with the structure of MyGraphState\n",
    "workflow = StateGraph(MyGraphState)"
   ]
  },
  {
   "cell_type": "markdown",
   "id": "0472a9d8",
   "metadata": {},
   "source": [
    "### **``Add nodes to Graph``**"
   ]
  },
  {
   "cell_type": "code",
   "execution_count": 6,
   "id": "b13b7194",
   "metadata": {},
   "outputs": [
    {
     "data": {
      "text/plain": [
       "<langgraph.graph.state.StateGraph at 0x20bf3acf620>"
      ]
     },
     "execution_count": 6,
     "metadata": {},
     "output_type": "execute_result"
    }
   ],
   "source": [
    "# Add three nodes to the workflow which are replicas of \"counter\"\n",
    "workflow.add_node(\"Node1\", counter)\n",
    "workflow.add_node(\"Node2\", counter)\n",
    "workflow.add_node(\"Node3\", counter)"
   ]
  },
  {
   "cell_type": "markdown",
   "id": "2879e41d",
   "metadata": {},
   "source": [
    "### **``Add edges to the graph``**"
   ]
  },
  {
   "cell_type": "code",
   "execution_count": 7,
   "id": "84d5d39c",
   "metadata": {},
   "outputs": [
    {
     "data": {
      "text/plain": [
       "<langgraph.graph.state.StateGraph at 0x20bf3acf620>"
      ]
     },
     "execution_count": 7,
     "metadata": {},
     "output_type": "execute_result"
    }
   ],
   "source": [
    "# Add the nodes one after another. \n",
    "# All the Nodes in the workflow take state as input, update the state and pass it to the next Node as input.\n",
    "# Output of Node1 goes to Node2 as input. Output of Node2 goes to Node3 as input.\n",
    "workflow.add_edge(START, \"Node1\")\n",
    "workflow.add_edge(\"Node1\", \"Node2\")\n",
    "workflow.add_edge(\"Node2\", \"Node3\")\n",
    "\n",
    "workflow.add_edge(\"Node3\", END)"
   ]
  },
  {
   "cell_type": "markdown",
   "id": "28523dfc",
   "metadata": {},
   "source": [
    "### **``Compile the graph``**"
   ]
  },
  {
   "cell_type": "code",
   "execution_count": 8,
   "id": "3804009d",
   "metadata": {},
   "outputs": [],
   "source": [
    "# Compile the workflow\n",
    "app = workflow.compile()"
   ]
  },
  {
   "cell_type": "markdown",
   "id": "6269e716",
   "metadata": {},
   "source": [
    "### **``Visualize the graph``**"
   ]
  },
  {
   "cell_type": "code",
   "execution_count": 9,
   "id": "2affd7ef",
   "metadata": {},
   "outputs": [
    {
     "data": {
      "image/png": "[encoded data removed]",
      "text/plain": [
       "<IPython.core.display.Image object>"
      ]
     },
     "metadata": {},
     "output_type": "display_data"
    }
   ],
   "source": [
    "# Visualize your graph\n",
    "from IPython.display import Image, display\n",
    "png = app.get_graph().draw_mermaid_png()\n",
    "\n",
    "display(Image(png))"
   ]
  },
  {
   "cell_type": "markdown",
   "id": "f6f38114",
   "metadata": {},
   "source": [
    "### **``Test your graph``**"
   ]
  },
  {
   "cell_type": "code",
   "execution_count": 10,
   "id": "f7133c51",
   "metadata": {},
   "outputs": [
    {
     "data": {
      "text/plain": [
       "{'count': 3, 'msg': 'Counter function has been called 3 time(s)'}"
      ]
     },
     "execution_count": 10,
     "metadata": {},
     "output_type": "execute_result"
    }
   ],
   "source": [
    "app.invoke({\"count\": 0, \"msg\":\"hello\"})"
   ]
  },
  {
   "cell_type": "code",
   "execution_count": null,
   "id": "6390402e",
   "metadata": {},
   "outputs": [],
   "source": []
  },
  {
   "cell_type": "markdown",
   "id": "2a48f5f5",
   "metadata": {},
   "source": [
    "# **Wand AI Multi Agent**"
   ]
  },
  {
   "cell_type": "markdown",
   "id": "c5351f5e",
   "metadata": {},
   "source": [
    "### **``Import the required packages``**"
   ]
  },
  {
   "cell_type": "code",
   "execution_count": 42,
   "id": "c9cf6355",
   "metadata": {},
   "outputs": [],
   "source": [
    "# Import equired packages\n",
    "import os\n",
    "import io\n",
    "import re\n",
    "import pandas as pd\n",
    "from uuid import uuid4\n",
    "from datetime import datetime\n",
    "import matplotlib.pyplot as plt\n",
    "from typing import Annotated, Optional\n",
    "from langchain_core.tools import tool\n",
    "from typing_extensions import TypedDict\n",
    "from langgraph.prebuilt import ToolNode\n",
    "from langchain_tavily import TavilySearch\n",
    "from langgraph.graph.message import add_messages\n",
    "from langchain.chat_models import init_chat_model\n",
    "from langgraph.graph import StateGraph, START, END\n",
    "from langchain_core.prompts import ChatPromptTemplate, MessagesPlaceholder\n",
    "from langchain_core.messages import AnyMessage, HumanMessage, AIMessage, ToolMessage"
   ]
  },
  {
   "cell_type": "markdown",
   "id": "fce69091",
   "metadata": {},
   "source": [
    "### **``Environment variables setup``**"
   ]
  },
  {
   "cell_type": "code",
   "execution_count": null,
   "id": "e8d2359a",
   "metadata": {},
   "outputs": [],
   "source": [
    "os.environ[\"GOOGLE_API_KEY\"] = \"\"\n",
    "os.environ[\"TAVILY_API_KEY\"] = \"\"\n",
    "os.environ[\"ANTHROPIC_API_KEY\"] = \"\""
   ]
  },
  {
   "cell_type": "markdown",
   "id": "9961fc94",
   "metadata": {},
   "source": [
    "### **``LLM setup``**"
   ]
  },
  {
   "cell_type": "code",
   "execution_count": 44,
   "id": "ae11cd07",
   "metadata": {},
   "outputs": [],
   "source": [
    "# You can add temperature/other kwargs if you like.\n",
    "# llm = init_chat_model(\"google_genai:gemini-2.5-flash\")\n",
    "\n",
    "llm = init_chat_model(\"anthropic:claude-3-5-sonnet-latest\")"
   ]
  },
  {
   "cell_type": "markdown",
   "id": "020ae52e",
   "metadata": {},
   "source": [
    "### **``Define a state schema.``**"
   ]
  },
  {
   "cell_type": "code",
   "execution_count": 45,
   "id": "4a5fdb95",
   "metadata": {},
   "outputs": [],
   "source": [
    "class MyGraphState(TypedDict):\n",
    "    # Messages have the type \"list\". The `add_messages` function\n",
    "    # in the annotation defines how this state key should be updated\n",
    "    # (in this case, it appends messages to the list, rather than overwriting them)\n",
    "\n",
    "    ## “a list of anything” (effectively list[Any]). Type checkers can’t help you much, and IDE autocomplete is weaker.\n",
    "    # messages: Annotated[list, add_messages]\n",
    "\n",
    "    ## “A list of LangChain message objects” (e.g., HumanMessage, AIMessage, SystemMessage, ToolMessage, …). This matches what LangGraph/ToolNode actually pass around, including .tool_calls on AIMessage.\n",
    "    messages: Annotated[list[AnyMessage], add_messages]\n",
    "\n",
    "    # Mode controls how far the pipeline runs: \"research\", \"summary\", \"visualize\", \"full\"\n",
    "    mode: str\n",
    "\n",
    "    # If user supplied a table as raw text for visualization\n",
    "    table_text: str"
   ]
  },
  {
   "cell_type": "markdown",
   "id": "994d8f23",
   "metadata": {},
   "source": [
    "### **```Tools```**"
   ]
  },
  {
   "cell_type": "markdown",
   "id": "ad5be784",
   "metadata": {},
   "source": [
    "##### **```Tools # 1: Web Search```**"
   ]
  },
  {
   "cell_type": "code",
   "execution_count": 46,
   "id": "10b1badd",
   "metadata": {},
   "outputs": [],
   "source": [
    "@tool\n",
    "def web_search(user_input: str) -> str:\n",
    "    \"\"\"\n",
    "    Return stitched text result from Tavily (string).\n",
    "    \"\"\"\n",
    "    ts = TavilySearch(max_results=2)\n",
    "    resp = ts.invoke({\"query\": user_input})\n",
    "    chunks = [r.get(\"content\") for r in resp.get(\"results\", []) if r.get(\"content\")]\n",
    "    return \"\\n\\n\".join(chunks) or \"No results found.\""
   ]
  },
  {
   "cell_type": "markdown",
   "id": "a33e2916",
   "metadata": {},
   "source": [
    "##### **```Tools # 2: Plot Visualization```**"
   ]
  },
  {
   "cell_type": "code",
   "execution_count": 47,
   "id": "204924e4",
   "metadata": {},
   "outputs": [],
   "source": [
    "@tool\n",
    "def plot_table(table_text: str, chart_type: str = \"line\") -> str:\n",
    "    \"\"\"\n",
    "    Parse table_text into a DataFrame, plot it, save PNG, and return file path.\n",
    "    Accepts CSV or markdown-style table or whitespace-separated table.\n",
    "    \"\"\"\n",
    "\n",
    "    txt = (table_text or \"\").strip()\n",
    "    if not txt:\n",
    "        raise ValueError(\"plot_table: table_text is empty\")\n",
    "\n",
    "    df = None\n",
    "    # 1) markdown pipe table\n",
    "    try:\n",
    "        if '|' in txt and re.search(r'\\|[-\\s:]+\\|', txt):\n",
    "            # remove separator line and outer pipes, keep header + rows\n",
    "            lines = []\n",
    "            for line in txt.splitlines():\n",
    "                if re.match(r'^\\s*\\|?\\s*-{2,}\\s*\\|?', line):\n",
    "                    continue\n",
    "                lines.append(line.strip().strip('|'))\n",
    "            csv_txt = \"\\n\".join(lines)\n",
    "            df = pd.read_csv(io.StringIO(csv_txt))\n",
    "        # 2) plain CSV\n",
    "        elif '\\n' in txt and ',' in txt:\n",
    "            df = pd.read_csv(io.StringIO(txt))\n",
    "    except Exception:\n",
    "        df = None\n",
    "\n",
    "    # 3) whitespace separated\n",
    "    if df is None:\n",
    "        try:\n",
    "            df = pd.read_csv(io.StringIO(txt), sep=r'\\s+')\n",
    "        except Exception:\n",
    "            df = None\n",
    "\n",
    "    if df is None:\n",
    "        raise ValueError(\"plot_table: Unable to parse table_text into a DataFrame. Provide CSV or markdown table with header row.\")\n",
    "\n",
    "    # Choose x and y\n",
    "    x_col = None\n",
    "    for c in df.columns:\n",
    "        if c.lower() in (\"date\", \"year\", \"time\") or re.search(r'date|year|time', c.lower()):\n",
    "            x_col = c\n",
    "            break\n",
    "    if x_col is None:\n",
    "        x_col = df.columns[0]\n",
    "\n",
    "    numeric_cols = [c for c in df.columns if pd.api.types.is_numeric_dtype(df[c]) and c != x_col]\n",
    "    y_col = numeric_cols[0] if numeric_cols else (df.columns[1] if len(df.columns) > 1 else None)\n",
    "    if y_col is None:\n",
    "        # try convert second column to numeric\n",
    "        if len(df.columns) >= 2:\n",
    "            try:\n",
    "                df[df.columns[1]] = pd.to_numeric(df[df.columns[1]], errors='coerce')\n",
    "                y_col = df.columns[1]\n",
    "            except Exception:\n",
    "                y_col = None\n",
    "\n",
    "    if y_col is None:\n",
    "        raise ValueError(\"plot_table: No numeric column found to plot. Provide at least one numeric column.\")\n",
    "\n",
    "    # attempt date parse for x\n",
    "    try:\n",
    "        df[x_col] = pd.to_datetime(df[x_col], errors='ignore')\n",
    "    except Exception:\n",
    "        pass\n",
    "\n",
    "    # Plot\n",
    "    plt.figure(figsize=(8, 4.5))\n",
    "    if chart_type == \"line\":\n",
    "        plt.plot(df[x_col], df[y_col], marker='o')\n",
    "    elif chart_type == \"bar\":\n",
    "        plt.bar(df[x_col].astype(str), df[y_col])\n",
    "    elif chart_type == \"scatter\":\n",
    "        plt.scatter(df[x_col], df[y_col])\n",
    "    else:\n",
    "        raise ValueError(f\"plot_table: Unsupported chart_type: {chart_type}\")\n",
    "\n",
    "    plt.title(f\"{y_col} vs {x_col}\")\n",
    "    plt.xlabel(str(x_col))\n",
    "    plt.ylabel(str(y_col))\n",
    "    plt.tight_layout()\n",
    "\n",
    "    out_dir = \"/mnt/data\"\n",
    "    os.makedirs(out_dir, exist_ok=True)\n",
    "    fname = f\"plot_{datetime.utcnow().strftime('%Y%m%d%H%M%S')}_{uuid4().hex[:6]}.png\"\n",
    "    out_path = os.path.join(out_dir, fname)\n",
    "    plt.savefig(out_path, dpi=150)\n",
    "    plt.close()\n",
    "\n",
    "    return out_path"
   ]
  },
  {
   "cell_type": "code",
   "execution_count": 48,
   "id": "d5ba2194",
   "metadata": {},
   "outputs": [],
   "source": [
    "# In simple words bind tools restrict agents from calling any tool they want. tools_node has access to both tools and its python function or tool executor.\n",
    "\n",
    "# Helpful Analogy:\n",
    "   # Shop shelves = ToolNode → has both eggs and bread available (all tools that can be executed).\n",
    "   # Person A = Researcher Agent (bind_tools([bread])) → is only told about bread.\n",
    "   # Person B = Visualizer Agent (bind_tools([eggs])) → is only told about eggs.\n",
    "        # If Person A (Researcher) tries to ask for eggs (plot_table), the model won't even think about eggs most of the time — because it doesn't know that eggs exist.\n",
    "        # If, somehow, Person A misbehaves and asks for eggs anyway (rare, but LLMs can hallucinate), the ToolNode still has eggs and would hand them over (because it's stocked with everything).\n",
    "\n",
    "\n",
    "# We need both binding and ToolNode.\n",
    "# Bind_tools tells the model (LLM runnable) what tools it is allowed to call and what their argument \n",
    "# schema looks like. It’s a model-side permission and spec.\n",
    "\n",
    "## Clarification: LangChain automatically injects those tool specs into the system prompt / OpenAI function-calling schema.\n",
    "        ## The LLM now knows:\n",
    "                ## Tool names\n",
    "                ## Input parameters & types\n",
    "                ## Tool descriptions (from decorators / docstrings)\n",
    "\n",
    "## Researcher should only be able to call web_search\n",
    "researcher_llm = llm.bind_tools([web_search])\n",
    "## Visualizer should only be able to call plot_table\n",
    "visualizer_llm = llm.bind_tools([plot_table])\n",
    "\n",
    "# ToolNode (or your custom tool-executor) actually runs the Python function when the model emits a tool \n",
    "# call. It’s a runtime executor.\n",
    "## ToolNode knows how to run either tool when asked\n",
    "tools_node = ToolNode([web_search, plot_table])"
   ]
  },
  {
   "cell_type": "markdown",
   "id": "de0d57bd",
   "metadata": {},
   "source": [
    "### **```Prompts per agent```**"
   ]
  },
  {
   "cell_type": "code",
   "execution_count": 49,
   "id": "491e8adc",
   "metadata": {},
   "outputs": [],
   "source": [
    "# Prompts per agent\n",
    "\n",
    "planner_prompt = ChatPromptTemplate.from_messages([\n",
    "    (\"system\", \"You are the Planner. Read the user request and produce a short plan (2–6 numbered steps). Indicate missing information as 1–3 direct questions. Do NOT call tools. Keep each step ≤ 20 words.\"),\n",
    "    MessagesPlaceholder(\"messages\"),\n",
    "])\n",
    "\n",
    "researcher_prompt = ChatPromptTemplate.from_messages([\n",
    "    (\"system\",\n",
    "     \"You are the Researcher. Gather reliable facts and short evidence fragments, then synthesize. \"\n",
    "     \"If external info is needed, call tool web_search with an argument like {{\\\"user_input\\\": \\\"EV adoption Pakistan 2023 statistics\\\"}}. \"\n",
    "     \"After any tool use, include up to 3 quoted evidence snippets (≤25 words each) with a 1-line source label, then a 2–4 sentence synthesis with provenance when possible. Keep output ≤220 words.\"),\n",
    "    MessagesPlaceholder(\"messages\"),\n",
    "])\n",
    "\n",
    "summarizer_prompt = ChatPromptTemplate.from_messages([\n",
    "    (\"system\", \"You are the Summarizer. Produce 4–6 bullet points. Each bullet should start with a bold one-line header (e.g., **Key finding:**) followed by 1–2 sentences. Add one action-item bullet at the end (who does what next). Keep total ≤180 words.\"),\n",
    "    MessagesPlaceholder(\"messages\"),\n",
    "])\n",
    "\n",
    "visualizer_prompt = ChatPromptTemplate.from_messages([\n",
    "    (\"system\",\n",
    "     \"You are the Visualizer. If table_text is present or a table exists in the messages, propose a chart spec (title, x_col, y_col, chart_type). \"\n",
    "     \"Then either call the tool plot_table with arguments like {{\\\"table_text\\\": \\\"<CSV or markdown table>\\\", \\\"chart_type\\\": \\\"line\\\"}} to draw it, \"\n",
    "     \"OR return a JSON spec in the exact format {{\\\"action\\\":\\\"spec_only\\\",\\\"chart_type\\\":\\\"line\\\",\\\"title\\\":\\\"EV adoption\\\",\\\"x_col\\\":\\\"year\\\",\\\"y_col\\\":\\\"ev_count\\\",\\\"notes\\\":\\\"...\\\"}}. \"\n",
    "     \"If you call plot_table, include a 1-line rationale for the choice. Keep text concise.\"),\n",
    "    MessagesPlaceholder(\"messages\"),\n",
    "])"
   ]
  },
  {
   "cell_type": "code",
   "execution_count": 50,
   "id": "c0b6f5c8",
   "metadata": {},
   "outputs": [],
   "source": [
    "# Runnables\n",
    "## Passing prompts to LLM to create runnables\n",
    "## Docstrings/descriptions of bound tools directly shape the LLM’s reasoning about what it can call.\n",
    "\n",
    "planner_runnable    = planner_prompt    | llm\n",
    "researcher_runnable = researcher_prompt | researcher_llm\n",
    "summarizer_runnable = summarizer_prompt | llm\n",
    "visualizer_runnable = visualizer_prompt | visualizer_llm"
   ]
  },
  {
   "cell_type": "markdown",
   "id": "56a1ccdc",
   "metadata": {},
   "source": [
    "### **``Define nodes``**"
   ]
  },
  {
   "cell_type": "code",
   "execution_count": 60,
   "id": "c4f9b9a7",
   "metadata": {},
   "outputs": [],
   "source": [
    "# Node implementations\n",
    "## Function that will be triggered in each node.\n",
    "\n",
    "## Clarification: Regarding whether we need to put docstrings like we do when we bind tools with llms or not and to answer that question ->\n",
    "    ## Those are graph nodes (Python callables) inside LangGraph. They are not exposed as tools to the LLM.\n",
    "    ## Instead, you wrap them in prompts (ChatPromptTemplate) where you provide the system message like:\n",
    "\n",
    "def planner_agent(state: MyGraphState):\n",
    "    ai = planner_runnable.invoke(state)\n",
    "    return {\"messages\": [ai]}\n",
    "\n",
    "def researcher_agent(state: MyGraphState):\n",
    "    ai = researcher_runnable.invoke(state)\n",
    "    return {\"messages\": [ai]}\n",
    "\n",
    "def summarizer_agent(state: MyGraphState):\n",
    "    ai = summarizer_runnable.invoke(state)\n",
    "    return {\"messages\": [ai]}\n",
    "\n",
    "def visualizer_agent(state: MyGraphState):\n",
    "    \"\"\"\n",
    "    Run the visualizer LLM. If it emits a tool call, we return the AIMessage\n",
    "    and let the ToolNode run the tool in the next graph step. If it emits no\n",
    "    tool call but table_text exists, auto-invoke plot_table here.\n",
    "    \"\"\"\n",
    "    ai = visualizer_runnable.invoke(state)\n",
    "    # If the model already requested a tool, return only the AIMessage.\n",
    "    # The graph's conditional routing should send us to the ToolNode next.\n",
    "    tool_calls = getattr(ai, \"tool_calls\", None)\n",
    "    if tool_calls and len(tool_calls) > 0:\n",
    "        # Do NOT auto-run the tool here — ToolNode will run it next.\n",
    "        return {\"messages\": [ai]}\n",
    "\n",
    "    # No tool call present. If table_text exists, auto-plot.\n",
    "    out_messages = [ai]\n",
    "    if state.get(\"table_text\"):\n",
    "        try:\n",
    "            chart_type = \"line\"\n",
    "            content_lower = (ai.content or \"\").lower()\n",
    "            if \"bar chart\" in content_lower or (\"bar\" in content_lower and \"line\" not in content_lower):\n",
    "                chart_type = \"bar\"\n",
    "            elif \"scatter\" in content_lower:\n",
    "                chart_type = \"scatter\"\n",
    "\n",
    "            file_path = plot_table.invoke(state[\"table_text\"], chart_type)\n",
    "            # Return a ToolMessage so downstream consumers see the tool result\n",
    "            tm = ToolMessage(tool_call_id=str(uuid4()), name=\"plot_table\", content=file_path)\n",
    "            out_messages.append(tm)\n",
    "\n",
    "            # Optionally add a follow-up AIMessage (safe since there was no tool_use)\n",
    "            follow_up = AIMessage(content=f\"Automatically plotted table as a {chart_type} chart. File saved at: {file_path}\")\n",
    "            out_messages.append(follow_up)\n",
    "        except Exception as e:\n",
    "            out_messages.append(AIMessage(content=f\"Failed to auto-plot the table: {e}\"))\n",
    "\n",
    "    return {\"messages\": out_messages}\n"
   ]
  },
  {
   "cell_type": "markdown",
   "id": "91c4fa3d",
   "metadata": {},
   "source": [
    "### **``Edge conditions``**"
   ]
  },
  {
   "cell_type": "code",
   "execution_count": 61,
   "id": "3f683050",
   "metadata": {},
   "outputs": [],
   "source": [
    "# Router logic (mode-driven) OR Edge conditions\n",
    "\n",
    "def route_from_researcher(state: MyGraphState):\n",
    "    mode = state.get(\"mode\", \"full\")\n",
    "    last = state[\"messages\"][-1]\n",
    "    if hasattr(last, \"tool_calls\") and last.tool_calls:\n",
    "        return \"tools\"\n",
    "    if mode == \"research\":\n",
    "        return END\n",
    "    return \"summarizer_agent\"\n",
    "\n",
    "def route_from_summarizer(state: MyGraphState):\n",
    "    mode = state.get(\"mode\", \"full\")\n",
    "    last = state[\"messages\"][-1]\n",
    "    if hasattr(last, \"tool_calls\") and last.tool_calls:\n",
    "        return \"tools\"\n",
    "    if mode == \"summary\":\n",
    "        return END\n",
    "    return \"visualizer_agent\"\n",
    "\n",
    "def route_from_visualizer(state: MyGraphState):\n",
    "    last = state[\"messages\"][-1]\n",
    "    if hasattr(last, \"tool_calls\") and last.tool_calls:\n",
    "        return \"tools\"\n",
    "    # if mode is visualize, stop after visualizer; else continue to END\n",
    "    mode = state.get(\"mode\", \"full\")\n",
    "    if mode == \"visualize\":\n",
    "        return END\n",
    "    return END"
   ]
  },
  {
   "cell_type": "markdown",
   "id": "ad59ea0c",
   "metadata": {},
   "source": [
    "### **``Create a graph instance of StateGraph``**"
   ]
  },
  {
   "cell_type": "code",
   "execution_count": 62,
   "id": "f7d9cebc",
   "metadata": {},
   "outputs": [],
   "source": [
    "# Create an instance of StateGraph with the structure of MyGraphState\n",
    "workflow = StateGraph(MyGraphState)"
   ]
  },
  {
   "cell_type": "markdown",
   "id": "9cf5fa30",
   "metadata": {},
   "source": [
    "### **``Add nodes to Graph``**"
   ]
  },
  {
   "cell_type": "code",
   "execution_count": 63,
   "id": "bf89cfab",
   "metadata": {},
   "outputs": [
    {
     "data": {
      "text/plain": [
       "<langgraph.graph.state.StateGraph at 0x24529825040>"
      ]
     },
     "execution_count": 63,
     "metadata": {},
     "output_type": "execute_result"
    }
   ],
   "source": [
    "# The first argument is the unique node name\n",
    "# The second argument is the function or object that will be called whenever\n",
    "# the node is used.\n",
    "workflow.add_node(\"planner_agent\",    planner_agent)   \n",
    "workflow.add_node(\"researcher_agent\", researcher_agent)\n",
    "workflow.add_node(\"summarizer_agent\", summarizer_agent)\n",
    "workflow.add_node(\"visualizer_agent\", visualizer_agent)\n",
    "workflow.add_node(\"tools\",            tools_node)"
   ]
  },
  {
   "cell_type": "markdown",
   "id": "ccdb24c9",
   "metadata": {},
   "source": [
    "### **``Add edges to the graph``**"
   ]
  },
  {
   "cell_type": "code",
   "execution_count": 64,
   "id": "f4eb2b9f",
   "metadata": {},
   "outputs": [
    {
     "data": {
      "text/plain": [
       "<langgraph.graph.state.StateGraph at 0x24529825040>"
      ]
     },
     "execution_count": 64,
     "metadata": {},
     "output_type": "execute_result"
    }
   ],
   "source": [
    "# Add the nodes one after another. \n",
    "# All the Nodes in the workflow take state as input, update the state and pass it to the next Node as input.\n",
    "# Output of Node1 goes to Node2 as input. Output of Node2 goes to Node3 as input.\n",
    "workflow.add_edge(START, \"planner_agent\")\n",
    "workflow.add_edge(\"planner_agent\", \"researcher_agent\")\n",
    "\n",
    "workflow.add_conditional_edges(\"researcher_agent\", route_from_researcher,\n",
    "                               {\"tools\": \"tools\", \"summarizer_agent\": \"summarizer_agent\", str(END): str(END)})\n",
    "\n",
    "# tools -> back to researcher (research loop)\n",
    "workflow.add_edge(\"tools\", \"researcher_agent\")\n",
    "\n",
    "\n",
    "# Information regarding how conditional edges work:\n",
    "## workflow.add_conditional_edges(from_node, condition_fn, mapping)\n",
    "    # This means:\n",
    "    # When the graph finishes running from_node, call condition_fn(state). Based on its return value, go to the mapped next node.\n",
    "workflow.add_conditional_edges(\"summarizer_agent\", route_from_summarizer,\n",
    "                               {\"visualizer_agent\": \"visualizer_agent\", str(END): str(END)})\n",
    "\n",
    "# allow visualizer to call tools and loop back to itself\n",
    "workflow.add_conditional_edges(\"visualizer_agent\", route_from_visualizer,\n",
    "                               {\"tools\": \"tools\", str(END): str(END)})\n",
    "workflow.add_edge(\"tools\", \"visualizer_agent\")\n",
    "\n",
    "workflow.add_edge(\"visualizer_agent\", END)"
   ]
  },
  {
   "cell_type": "markdown",
   "id": "dfac7835",
   "metadata": {},
   "source": [
    "### **``Compile the graph``**"
   ]
  },
  {
   "cell_type": "code",
   "execution_count": 65,
   "id": "a386fa21",
   "metadata": {},
   "outputs": [],
   "source": [
    "# Compile the workflow\n",
    "app = workflow.compile()"
   ]
  },
  {
   "cell_type": "code",
   "execution_count": 66,
   "id": "ec9a5149",
   "metadata": {},
   "outputs": [],
   "source": [
    "# Helpers Functions\n",
    "\n",
    "from langchain_core.messages import AIMessage, ToolMessage, HumanMessage\n",
    "\n",
    "def _flatten_messages(raw_messages):\n",
    "    \"\"\"Yield message objects in a flat sequence from possibly nested lists.\"\"\"\n",
    "    stack = list(raw_messages)\n",
    "    while stack:\n",
    "        m = stack.pop(0)\n",
    "        if m is None:\n",
    "            continue\n",
    "        if isinstance(m, (list, tuple)):\n",
    "            stack = list(m) + stack\n",
    "            continue\n",
    "        yield m\n",
    "\n",
    "def last_nonempty_ai_message(messages):\n",
    "    \"\"\"\n",
    "    Find last AIMessage with non-empty textual content.\n",
    "    Handles nested lists and ToolMessage content that might be non-string.\n",
    "    \"\"\"\n",
    "    last_found = None\n",
    "    for m in _flatten_messages(messages):\n",
    "        # Debugging: print unexpected types (optional)\n",
    "        if not isinstance(m, (AIMessage, ToolMessage, HumanMessage)):\n",
    "            # You can log this instead of printing in production\n",
    "            # print(\"DEBUG: unexpected message type:\", type(m), m)\n",
    "            pass\n",
    "\n",
    "        if isinstance(m, AIMessage):\n",
    "            content = m.content or \"\"\n",
    "            if isinstance(content, (list, tuple)):\n",
    "                # flatten if AIMessage.content is a list of strings\n",
    "                text = \" \".join(str(x) for x in content if x)\n",
    "            else:\n",
    "                text = str(content)\n",
    "            if text.strip():\n",
    "                last_found = m\n",
    "\n",
    "        # Sometimes tools return their result as ToolMessage.content (string or other)\n",
    "        # but we only want AIMessage textual syntheses here.\n",
    "\n",
    "    return last_found\n",
    "\n",
    "\n",
    "def try_draw_graph(app):\n",
    "    try:\n",
    "        png = app.get_graph().draw_mermaid_png()\n",
    "        from IPython.display import Image, display\n",
    "        display(Image(png))\n",
    "    except Exception:\n",
    "        pass"
   ]
  },
  {
   "cell_type": "markdown",
   "id": "609af51a",
   "metadata": {},
   "source": [
    "### **``Visualize the graph``**"
   ]
  },
  {
   "cell_type": "code",
   "execution_count": 67,
   "id": "611be940",
   "metadata": {},
   "outputs": [
    {
     "data": {
      "image/png": "[encoded data removed]",
      "text/plain": [
       "<IPython.core.display.Image object>"
      ]
     },
     "metadata": {},
     "output_type": "display_data"
    }
   ],
   "source": [
    "# Visualize your graph\n",
    "from IPython.display import Image, display\n",
    "png = app.get_graph().draw_mermaid_png()\n",
    "\n",
    "display(Image(png))"
   ]
  },
  {
   "cell_type": "markdown",
   "id": "b0bdb45e",
   "metadata": {},
   "source": [
    "### **``Test your graph``**"
   ]
  },
  {
   "cell_type": "code",
   "execution_count": 68,
   "id": "1a5eb19c",
   "metadata": {},
   "outputs": [
    {
     "ename": "BadRequestError",
     "evalue": "Error code: 400 - {'type': 'error', 'error': {'type': 'invalid_request_error', 'message': 'messages.3: `tool_use` ids were found without `tool_result` blocks immediately after: toolu_01Ep7TBQQyVwAwE8NXdXdrVj. Each `tool_use` block must have a corresponding `tool_result` block in the next message.'}, 'request_id': 'req_011CTfZifeSTbDcQykKN36tu'}",
     "output_type": "error",
     "traceback": [
      "\u001b[31m---------------------------------------------------------------------------\u001b[39m",
      "\u001b[31mBadRequestError\u001b[39m                           Traceback (most recent call last)",
      "\u001b[36mCell\u001b[39m\u001b[36m \u001b[39m\u001b[32mIn[68]\u001b[39m\u001b[32m, line 18\u001b[39m\n\u001b[32m     13\u001b[39m \u001b[38;5;66;03m# Example 1: research-only\u001b[39;00m\n\u001b[32m     14\u001b[39m inputs = {\n\u001b[32m     15\u001b[39m     \u001b[33m\"\u001b[39m\u001b[33mmessages\u001b[39m\u001b[33m\"\u001b[39m: [HumanMessage(content=\u001b[33m\"\u001b[39m\u001b[33mFind 2 recent stats on EV adoption in Pakistan and summarize.\u001b[39m\u001b[33m\"\u001b[39m)],\n\u001b[32m     16\u001b[39m     \u001b[33m\"\u001b[39m\u001b[33mmode\u001b[39m\u001b[33m\"\u001b[39m: \u001b[33m\"\u001b[39m\u001b[33mresearch\u001b[39m\u001b[33m\"\u001b[39m\n\u001b[32m     17\u001b[39m }\n\u001b[32m---> \u001b[39m\u001b[32m18\u001b[39m out = \u001b[43mapp\u001b[49m\u001b[43m.\u001b[49m\u001b[43minvoke\u001b[49m\u001b[43m(\u001b[49m\u001b[43minputs\u001b[49m\u001b[43m)\u001b[49m\n\u001b[32m     19\u001b[39m \u001b[38;5;28mprint\u001b[39m(\u001b[33m\"\u001b[39m\u001b[38;5;130;01m\\n\u001b[39;00m\u001b[33m--- Research-only final ---\u001b[39m\u001b[33m\"\u001b[39m)\n\u001b[32m     20\u001b[39m final = last_nonempty_ai_message(out[\u001b[33m\"\u001b[39m\u001b[33mmessages\u001b[39m\u001b[33m\"\u001b[39m])\n",
      "\u001b[36mFile \u001b[39m\u001b[32me:\\My Projects\\Hegtavic Projects\\Wand_ai\\Multi-agent-task-solver\\backend\\.venv\\Lib\\site-packages\\langgraph\\pregel\\main.py:3026\u001b[39m, in \u001b[36mPregel.invoke\u001b[39m\u001b[34m(self, input, config, context, stream_mode, print_mode, output_keys, interrupt_before, interrupt_after, durability, **kwargs)\u001b[39m\n\u001b[32m   3023\u001b[39m chunks: \u001b[38;5;28mlist\u001b[39m[\u001b[38;5;28mdict\u001b[39m[\u001b[38;5;28mstr\u001b[39m, Any] | Any] = []\n\u001b[32m   3024\u001b[39m interrupts: \u001b[38;5;28mlist\u001b[39m[Interrupt] = []\n\u001b[32m-> \u001b[39m\u001b[32m3026\u001b[39m \u001b[43m\u001b[49m\u001b[38;5;28;43;01mfor\u001b[39;49;00m\u001b[43m \u001b[49m\u001b[43mchunk\u001b[49m\u001b[43m \u001b[49m\u001b[38;5;129;43;01min\u001b[39;49;00m\u001b[43m \u001b[49m\u001b[38;5;28;43mself\u001b[39;49m\u001b[43m.\u001b[49m\u001b[43mstream\u001b[49m\u001b[43m(\u001b[49m\n\u001b[32m   3027\u001b[39m \u001b[43m    \u001b[49m\u001b[38;5;28;43minput\u001b[39;49m\u001b[43m,\u001b[49m\n\u001b[32m   3028\u001b[39m \u001b[43m    \u001b[49m\u001b[43mconfig\u001b[49m\u001b[43m,\u001b[49m\n\u001b[32m   3029\u001b[39m \u001b[43m    \u001b[49m\u001b[43mcontext\u001b[49m\u001b[43m=\u001b[49m\u001b[43mcontext\u001b[49m\u001b[43m,\u001b[49m\n\u001b[32m   3030\u001b[39m \u001b[43m    \u001b[49m\u001b[43mstream_mode\u001b[49m\u001b[43m=\u001b[49m\u001b[43m[\u001b[49m\u001b[33;43m\"\u001b[39;49m\u001b[33;43mupdates\u001b[39;49m\u001b[33;43m\"\u001b[39;49m\u001b[43m,\u001b[49m\u001b[43m \u001b[49m\u001b[33;43m\"\u001b[39;49m\u001b[33;43mvalues\u001b[39;49m\u001b[33;43m\"\u001b[39;49m\u001b[43m]\u001b[49m\n\u001b[32m   3031\u001b[39m \u001b[43m    \u001b[49m\u001b[38;5;28;43;01mif\u001b[39;49;00m\u001b[43m \u001b[49m\u001b[43mstream_mode\u001b[49m\u001b[43m \u001b[49m\u001b[43m==\u001b[49m\u001b[43m \u001b[49m\u001b[33;43m\"\u001b[39;49m\u001b[33;43mvalues\u001b[39;49m\u001b[33;43m\"\u001b[39;49m\n\u001b[32m   3032\u001b[39m \u001b[43m    \u001b[49m\u001b[38;5;28;43;01melse\u001b[39;49;00m\u001b[43m \u001b[49m\u001b[43mstream_mode\u001b[49m\u001b[43m,\u001b[49m\n\u001b[32m   3033\u001b[39m \u001b[43m    \u001b[49m\u001b[43mprint_mode\u001b[49m\u001b[43m=\u001b[49m\u001b[43mprint_mode\u001b[49m\u001b[43m,\u001b[49m\n\u001b[32m   3034\u001b[39m \u001b[43m    \u001b[49m\u001b[43moutput_keys\u001b[49m\u001b[43m=\u001b[49m\u001b[43moutput_keys\u001b[49m\u001b[43m,\u001b[49m\n\u001b[32m   3035\u001b[39m \u001b[43m    \u001b[49m\u001b[43minterrupt_before\u001b[49m\u001b[43m=\u001b[49m\u001b[43minterrupt_before\u001b[49m\u001b[43m,\u001b[49m\n\u001b[32m   3036\u001b[39m \u001b[43m    \u001b[49m\u001b[43minterrupt_after\u001b[49m\u001b[43m=\u001b[49m\u001b[43minterrupt_after\u001b[49m\u001b[43m,\u001b[49m\n\u001b[32m   3037\u001b[39m \u001b[43m    \u001b[49m\u001b[43mdurability\u001b[49m\u001b[43m=\u001b[49m\u001b[43mdurability\u001b[49m\u001b[43m,\u001b[49m\n\u001b[32m   3038\u001b[39m \u001b[43m    \u001b[49m\u001b[43m*\u001b[49m\u001b[43m*\u001b[49m\u001b[43mkwargs\u001b[49m\u001b[43m,\u001b[49m\n\u001b[32m   3039\u001b[39m \u001b[43m\u001b[49m\u001b[43m)\u001b[49m\u001b[43m:\u001b[49m\n\u001b[32m   3040\u001b[39m \u001b[43m    \u001b[49m\u001b[38;5;28;43;01mif\u001b[39;49;00m\u001b[43m \u001b[49m\u001b[43mstream_mode\u001b[49m\u001b[43m \u001b[49m\u001b[43m==\u001b[49m\u001b[43m \u001b[49m\u001b[33;43m\"\u001b[39;49m\u001b[33;43mvalues\u001b[39;49m\u001b[33;43m\"\u001b[39;49m\u001b[43m:\u001b[49m\n\u001b[32m   3041\u001b[39m \u001b[43m        \u001b[49m\u001b[38;5;28;43;01mif\u001b[39;49;00m\u001b[43m \u001b[49m\u001b[38;5;28;43mlen\u001b[39;49m\u001b[43m(\u001b[49m\u001b[43mchunk\u001b[49m\u001b[43m)\u001b[49m\u001b[43m \u001b[49m\u001b[43m==\u001b[49m\u001b[43m \u001b[49m\u001b[32;43m2\u001b[39;49m\u001b[43m:\u001b[49m\n",
      "\u001b[36mFile \u001b[39m\u001b[32me:\\My Projects\\Hegtavic Projects\\Wand_ai\\Multi-agent-task-solver\\backend\\.venv\\Lib\\site-packages\\langgraph\\pregel\\main.py:2647\u001b[39m, in \u001b[36mPregel.stream\u001b[39m\u001b[34m(self, input, config, context, stream_mode, print_mode, output_keys, interrupt_before, interrupt_after, durability, subgraphs, debug, **kwargs)\u001b[39m\n\u001b[32m   2645\u001b[39m \u001b[38;5;28;01mfor\u001b[39;00m task \u001b[38;5;129;01min\u001b[39;00m loop.match_cached_writes():\n\u001b[32m   2646\u001b[39m     loop.output_writes(task.id, task.writes, cached=\u001b[38;5;28;01mTrue\u001b[39;00m)\n\u001b[32m-> \u001b[39m\u001b[32m2647\u001b[39m \u001b[43m\u001b[49m\u001b[38;5;28;43;01mfor\u001b[39;49;00m\u001b[43m \u001b[49m\u001b[43m_\u001b[49m\u001b[43m \u001b[49m\u001b[38;5;129;43;01min\u001b[39;49;00m\u001b[43m \u001b[49m\u001b[43mrunner\u001b[49m\u001b[43m.\u001b[49m\u001b[43mtick\u001b[49m\u001b[43m(\u001b[49m\n\u001b[32m   2648\u001b[39m \u001b[43m    \u001b[49m\u001b[43m[\u001b[49m\u001b[43mt\u001b[49m\u001b[43m \u001b[49m\u001b[38;5;28;43;01mfor\u001b[39;49;00m\u001b[43m \u001b[49m\u001b[43mt\u001b[49m\u001b[43m \u001b[49m\u001b[38;5;129;43;01min\u001b[39;49;00m\u001b[43m \u001b[49m\u001b[43mloop\u001b[49m\u001b[43m.\u001b[49m\u001b[43mtasks\u001b[49m\u001b[43m.\u001b[49m\u001b[43mvalues\u001b[49m\u001b[43m(\u001b[49m\u001b[43m)\u001b[49m\u001b[43m \u001b[49m\u001b[38;5;28;43;01mif\u001b[39;49;00m\u001b[43m \u001b[49m\u001b[38;5;129;43;01mnot\u001b[39;49;00m\u001b[43m \u001b[49m\u001b[43mt\u001b[49m\u001b[43m.\u001b[49m\u001b[43mwrites\u001b[49m\u001b[43m]\u001b[49m\u001b[43m,\u001b[49m\n\u001b[32m   2649\u001b[39m \u001b[43m    \u001b[49m\u001b[43mtimeout\u001b[49m\u001b[43m=\u001b[49m\u001b[38;5;28;43mself\u001b[39;49m\u001b[43m.\u001b[49m\u001b[43mstep_timeout\u001b[49m\u001b[43m,\u001b[49m\n\u001b[32m   2650\u001b[39m \u001b[43m    \u001b[49m\u001b[43mget_waiter\u001b[49m\u001b[43m=\u001b[49m\u001b[43mget_waiter\u001b[49m\u001b[43m,\u001b[49m\n\u001b[32m   2651\u001b[39m \u001b[43m    \u001b[49m\u001b[43mschedule_task\u001b[49m\u001b[43m=\u001b[49m\u001b[43mloop\u001b[49m\u001b[43m.\u001b[49m\u001b[43maccept_push\u001b[49m\u001b[43m,\u001b[49m\n\u001b[32m   2652\u001b[39m \u001b[43m\u001b[49m\u001b[43m)\u001b[49m\u001b[43m:\u001b[49m\n\u001b[32m   2653\u001b[39m \u001b[43m    \u001b[49m\u001b[38;5;66;43;03m# emit output\u001b[39;49;00m\n\u001b[32m   2654\u001b[39m \u001b[43m    \u001b[49m\u001b[38;5;28;43;01myield from\u001b[39;49;00m\u001b[43m \u001b[49m\u001b[43m_output\u001b[49m\u001b[43m(\u001b[49m\n\u001b[32m   2655\u001b[39m \u001b[43m        \u001b[49m\u001b[43mstream_mode\u001b[49m\u001b[43m,\u001b[49m\u001b[43m \u001b[49m\u001b[43mprint_mode\u001b[49m\u001b[43m,\u001b[49m\u001b[43m \u001b[49m\u001b[43msubgraphs\u001b[49m\u001b[43m,\u001b[49m\u001b[43m \u001b[49m\u001b[43mstream\u001b[49m\u001b[43m.\u001b[49m\u001b[43mget\u001b[49m\u001b[43m,\u001b[49m\u001b[43m \u001b[49m\u001b[43mqueue\u001b[49m\u001b[43m.\u001b[49m\u001b[43mEmpty\u001b[49m\n\u001b[32m   2656\u001b[39m \u001b[43m    \u001b[49m\u001b[43m)\u001b[49m\n\u001b[32m   2657\u001b[39m loop.after_tick()\n",
      "\u001b[36mFile \u001b[39m\u001b[32me:\\My Projects\\Hegtavic Projects\\Wand_ai\\Multi-agent-task-solver\\backend\\.venv\\Lib\\site-packages\\langgraph\\pregel\\_runner.py:253\u001b[39m, in \u001b[36mPregelRunner.tick\u001b[39m\u001b[34m(self, tasks, reraise, timeout, retry_policy, get_waiter, schedule_task)\u001b[39m\n\u001b[32m    251\u001b[39m \u001b[38;5;66;03m# panic on failure or timeout\u001b[39;00m\n\u001b[32m    252\u001b[39m \u001b[38;5;28;01mtry\u001b[39;00m:\n\u001b[32m--> \u001b[39m\u001b[32m253\u001b[39m     \u001b[43m_panic_or_proceed\u001b[49m\u001b[43m(\u001b[49m\n\u001b[32m    254\u001b[39m \u001b[43m        \u001b[49m\u001b[43mfutures\u001b[49m\u001b[43m.\u001b[49m\u001b[43mdone\u001b[49m\u001b[43m.\u001b[49m\u001b[43munion\u001b[49m\u001b[43m(\u001b[49m\u001b[43mf\u001b[49m\u001b[43m \u001b[49m\u001b[38;5;28;43;01mfor\u001b[39;49;00m\u001b[43m \u001b[49m\u001b[43mf\u001b[49m\u001b[43m,\u001b[49m\u001b[43m \u001b[49m\u001b[43mt\u001b[49m\u001b[43m \u001b[49m\u001b[38;5;129;43;01min\u001b[39;49;00m\u001b[43m \u001b[49m\u001b[43mfutures\u001b[49m\u001b[43m.\u001b[49m\u001b[43mitems\u001b[49m\u001b[43m(\u001b[49m\u001b[43m)\u001b[49m\u001b[43m \u001b[49m\u001b[38;5;28;43;01mif\u001b[39;49;00m\u001b[43m \u001b[49m\u001b[43mt\u001b[49m\u001b[43m \u001b[49m\u001b[38;5;129;43;01mis\u001b[39;49;00m\u001b[43m \u001b[49m\u001b[38;5;129;43;01mnot\u001b[39;49;00m\u001b[43m \u001b[49m\u001b[38;5;28;43;01mNone\u001b[39;49;00m\u001b[43m)\u001b[49m\u001b[43m,\u001b[49m\n\u001b[32m    255\u001b[39m \u001b[43m        \u001b[49m\u001b[43mpanic\u001b[49m\u001b[43m=\u001b[49m\u001b[43mreraise\u001b[49m\u001b[43m,\u001b[49m\n\u001b[32m    256\u001b[39m \u001b[43m    \u001b[49m\u001b[43m)\u001b[49m\n\u001b[32m    257\u001b[39m \u001b[38;5;28;01mexcept\u001b[39;00m \u001b[38;5;167;01mException\u001b[39;00m \u001b[38;5;28;01mas\u001b[39;00m exc:\n\u001b[32m    258\u001b[39m     \u001b[38;5;28;01mif\u001b[39;00m tb := exc.__traceback__:\n",
      "\u001b[36mFile \u001b[39m\u001b[32me:\\My Projects\\Hegtavic Projects\\Wand_ai\\Multi-agent-task-solver\\backend\\.venv\\Lib\\site-packages\\langgraph\\pregel\\_runner.py:511\u001b[39m, in \u001b[36m_panic_or_proceed\u001b[39m\u001b[34m(futs, timeout_exc_cls, panic)\u001b[39m\n\u001b[32m    509\u001b[39m                 interrupts.append(exc)\n\u001b[32m    510\u001b[39m             \u001b[38;5;28;01melif\u001b[39;00m fut \u001b[38;5;129;01mnot\u001b[39;00m \u001b[38;5;129;01min\u001b[39;00m SKIP_RERAISE_SET:\n\u001b[32m--> \u001b[39m\u001b[32m511\u001b[39m                 \u001b[38;5;28;01mraise\u001b[39;00m exc\n\u001b[32m    512\u001b[39m \u001b[38;5;66;03m# raise combined interrupts\u001b[39;00m\n\u001b[32m    513\u001b[39m \u001b[38;5;28;01mif\u001b[39;00m interrupts:\n",
      "\u001b[36mFile \u001b[39m\u001b[32me:\\My Projects\\Hegtavic Projects\\Wand_ai\\Multi-agent-task-solver\\backend\\.venv\\Lib\\site-packages\\langgraph\\pregel\\_executor.py:81\u001b[39m, in \u001b[36mBackgroundExecutor.done\u001b[39m\u001b[34m(self, task)\u001b[39m\n\u001b[32m     79\u001b[39m \u001b[38;5;250m\u001b[39m\u001b[33;03m\"\"\"Remove the task from the tasks dict when it's done.\"\"\"\u001b[39;00m\n\u001b[32m     80\u001b[39m \u001b[38;5;28;01mtry\u001b[39;00m:\n\u001b[32m---> \u001b[39m\u001b[32m81\u001b[39m     \u001b[43mtask\u001b[49m\u001b[43m.\u001b[49m\u001b[43mresult\u001b[49m\u001b[43m(\u001b[49m\u001b[43m)\u001b[49m\n\u001b[32m     82\u001b[39m \u001b[38;5;28;01mexcept\u001b[39;00m GraphBubbleUp:\n\u001b[32m     83\u001b[39m     \u001b[38;5;66;03m# This exception is an interruption signal, not an error\u001b[39;00m\n\u001b[32m     84\u001b[39m     \u001b[38;5;66;03m# so we don't want to re-raise it on exit\u001b[39;00m\n\u001b[32m     85\u001b[39m     \u001b[38;5;28mself\u001b[39m.tasks.pop(task)\n",
      "\u001b[36mFile \u001b[39m\u001b[32m~\\AppData\\Roaming\\uv\\python\\cpython-3.12.10-windows-x86_64-none\\Lib\\concurrent\\futures\\_base.py:449\u001b[39m, in \u001b[36mFuture.result\u001b[39m\u001b[34m(self, timeout)\u001b[39m\n\u001b[32m    447\u001b[39m     \u001b[38;5;28;01mraise\u001b[39;00m CancelledError()\n\u001b[32m    448\u001b[39m \u001b[38;5;28;01melif\u001b[39;00m \u001b[38;5;28mself\u001b[39m._state == FINISHED:\n\u001b[32m--> \u001b[39m\u001b[32m449\u001b[39m     \u001b[38;5;28;01mreturn\u001b[39;00m \u001b[38;5;28;43mself\u001b[39;49m\u001b[43m.\u001b[49m\u001b[43m__get_result\u001b[49m\u001b[43m(\u001b[49m\u001b[43m)\u001b[49m\n\u001b[32m    451\u001b[39m \u001b[38;5;28mself\u001b[39m._condition.wait(timeout)\n\u001b[32m    453\u001b[39m \u001b[38;5;28;01mif\u001b[39;00m \u001b[38;5;28mself\u001b[39m._state \u001b[38;5;129;01min\u001b[39;00m [CANCELLED, CANCELLED_AND_NOTIFIED]:\n",
      "\u001b[36mFile \u001b[39m\u001b[32m~\\AppData\\Roaming\\uv\\python\\cpython-3.12.10-windows-x86_64-none\\Lib\\concurrent\\futures\\_base.py:401\u001b[39m, in \u001b[36mFuture.__get_result\u001b[39m\u001b[34m(self)\u001b[39m\n\u001b[32m    399\u001b[39m \u001b[38;5;28;01mif\u001b[39;00m \u001b[38;5;28mself\u001b[39m._exception:\n\u001b[32m    400\u001b[39m     \u001b[38;5;28;01mtry\u001b[39;00m:\n\u001b[32m--> \u001b[39m\u001b[32m401\u001b[39m         \u001b[38;5;28;01mraise\u001b[39;00m \u001b[38;5;28mself\u001b[39m._exception\n\u001b[32m    402\u001b[39m     \u001b[38;5;28;01mfinally\u001b[39;00m:\n\u001b[32m    403\u001b[39m         \u001b[38;5;66;03m# Break a reference cycle with the exception in self._exception\u001b[39;00m\n\u001b[32m    404\u001b[39m         \u001b[38;5;28mself\u001b[39m = \u001b[38;5;28;01mNone\u001b[39;00m\n",
      "\u001b[36mFile \u001b[39m\u001b[32m~\\AppData\\Roaming\\uv\\python\\cpython-3.12.10-windows-x86_64-none\\Lib\\concurrent\\futures\\thread.py:59\u001b[39m, in \u001b[36m_WorkItem.run\u001b[39m\u001b[34m(self)\u001b[39m\n\u001b[32m     56\u001b[39m     \u001b[38;5;28;01mreturn\u001b[39;00m\n\u001b[32m     58\u001b[39m \u001b[38;5;28;01mtry\u001b[39;00m:\n\u001b[32m---> \u001b[39m\u001b[32m59\u001b[39m     result = \u001b[38;5;28;43mself\u001b[39;49m\u001b[43m.\u001b[49m\u001b[43mfn\u001b[49m\u001b[43m(\u001b[49m\u001b[43m*\u001b[49m\u001b[38;5;28;43mself\u001b[39;49m\u001b[43m.\u001b[49m\u001b[43margs\u001b[49m\u001b[43m,\u001b[49m\u001b[43m \u001b[49m\u001b[43m*\u001b[49m\u001b[43m*\u001b[49m\u001b[38;5;28;43mself\u001b[39;49m\u001b[43m.\u001b[49m\u001b[43mkwargs\u001b[49m\u001b[43m)\u001b[49m\n\u001b[32m     60\u001b[39m \u001b[38;5;28;01mexcept\u001b[39;00m \u001b[38;5;167;01mBaseException\u001b[39;00m \u001b[38;5;28;01mas\u001b[39;00m exc:\n\u001b[32m     61\u001b[39m     \u001b[38;5;28mself\u001b[39m.future.set_exception(exc)\n",
      "\u001b[36mFile \u001b[39m\u001b[32me:\\My Projects\\Hegtavic Projects\\Wand_ai\\Multi-agent-task-solver\\backend\\.venv\\Lib\\site-packages\\langgraph\\pregel\\_retry.py:42\u001b[39m, in \u001b[36mrun_with_retry\u001b[39m\u001b[34m(task, retry_policy, configurable)\u001b[39m\n\u001b[32m     40\u001b[39m     task.writes.clear()\n\u001b[32m     41\u001b[39m     \u001b[38;5;66;03m# run the task\u001b[39;00m\n\u001b[32m---> \u001b[39m\u001b[32m42\u001b[39m     \u001b[38;5;28;01mreturn\u001b[39;00m \u001b[43mtask\u001b[49m\u001b[43m.\u001b[49m\u001b[43mproc\u001b[49m\u001b[43m.\u001b[49m\u001b[43minvoke\u001b[49m\u001b[43m(\u001b[49m\u001b[43mtask\u001b[49m\u001b[43m.\u001b[49m\u001b[43minput\u001b[49m\u001b[43m,\u001b[49m\u001b[43m \u001b[49m\u001b[43mconfig\u001b[49m\u001b[43m)\u001b[49m\n\u001b[32m     43\u001b[39m \u001b[38;5;28;01mexcept\u001b[39;00m ParentCommand \u001b[38;5;28;01mas\u001b[39;00m exc:\n\u001b[32m     44\u001b[39m     ns: \u001b[38;5;28mstr\u001b[39m = config[CONF][CONFIG_KEY_CHECKPOINT_NS]\n",
      "\u001b[36mFile \u001b[39m\u001b[32me:\\My Projects\\Hegtavic Projects\\Wand_ai\\Multi-agent-task-solver\\backend\\.venv\\Lib\\site-packages\\langgraph\\_internal\\_runnable.py:657\u001b[39m, in \u001b[36mRunnableSeq.invoke\u001b[39m\u001b[34m(self, input, config, **kwargs)\u001b[39m\n\u001b[32m    655\u001b[39m     \u001b[38;5;66;03m# run in context\u001b[39;00m\n\u001b[32m    656\u001b[39m     \u001b[38;5;28;01mwith\u001b[39;00m set_config_context(config, run) \u001b[38;5;28;01mas\u001b[39;00m context:\n\u001b[32m--> \u001b[39m\u001b[32m657\u001b[39m         \u001b[38;5;28minput\u001b[39m = \u001b[43mcontext\u001b[49m\u001b[43m.\u001b[49m\u001b[43mrun\u001b[49m\u001b[43m(\u001b[49m\u001b[43mstep\u001b[49m\u001b[43m.\u001b[49m\u001b[43minvoke\u001b[49m\u001b[43m,\u001b[49m\u001b[43m \u001b[49m\u001b[38;5;28;43minput\u001b[39;49m\u001b[43m,\u001b[49m\u001b[43m \u001b[49m\u001b[43mconfig\u001b[49m\u001b[43m,\u001b[49m\u001b[43m \u001b[49m\u001b[43m*\u001b[49m\u001b[43m*\u001b[49m\u001b[43mkwargs\u001b[49m\u001b[43m)\u001b[49m\n\u001b[32m    658\u001b[39m \u001b[38;5;28;01melse\u001b[39;00m:\n\u001b[32m    659\u001b[39m     \u001b[38;5;28minput\u001b[39m = step.invoke(\u001b[38;5;28minput\u001b[39m, config)\n",
      "\u001b[36mFile \u001b[39m\u001b[32me:\\My Projects\\Hegtavic Projects\\Wand_ai\\Multi-agent-task-solver\\backend\\.venv\\Lib\\site-packages\\langgraph\\_internal\\_runnable.py:401\u001b[39m, in \u001b[36mRunnableCallable.invoke\u001b[39m\u001b[34m(self, input, config, **kwargs)\u001b[39m\n\u001b[32m    399\u001b[39m         run_manager.on_chain_end(ret)\n\u001b[32m    400\u001b[39m \u001b[38;5;28;01melse\u001b[39;00m:\n\u001b[32m--> \u001b[39m\u001b[32m401\u001b[39m     ret = \u001b[38;5;28;43mself\u001b[39;49m\u001b[43m.\u001b[49m\u001b[43mfunc\u001b[49m\u001b[43m(\u001b[49m\u001b[43m*\u001b[49m\u001b[43margs\u001b[49m\u001b[43m,\u001b[49m\u001b[43m \u001b[49m\u001b[43m*\u001b[49m\u001b[43m*\u001b[49m\u001b[43mkwargs\u001b[49m\u001b[43m)\u001b[49m\n\u001b[32m    402\u001b[39m \u001b[38;5;28;01mif\u001b[39;00m \u001b[38;5;28mself\u001b[39m.recurse \u001b[38;5;129;01mand\u001b[39;00m \u001b[38;5;28misinstance\u001b[39m(ret, Runnable):\n\u001b[32m    403\u001b[39m     \u001b[38;5;28;01mreturn\u001b[39;00m ret.invoke(\u001b[38;5;28minput\u001b[39m, config)\n",
      "\u001b[36mCell\u001b[39m\u001b[36m \u001b[39m\u001b[32mIn[60]\u001b[39m\u001b[32m, line 26\u001b[39m, in \u001b[36mvisualizer_agent\u001b[39m\u001b[34m(state)\u001b[39m\n\u001b[32m     20\u001b[39m \u001b[38;5;28;01mdef\u001b[39;00m\u001b[38;5;250m \u001b[39m\u001b[34mvisualizer_agent\u001b[39m(state: MyGraphState):\n\u001b[32m     21\u001b[39m \u001b[38;5;250m    \u001b[39m\u001b[33;03m\"\"\"\u001b[39;00m\n\u001b[32m     22\u001b[39m \u001b[33;03m    Run the visualizer LLM. If it emits a tool call, we return the AIMessage\u001b[39;00m\n\u001b[32m     23\u001b[39m \u001b[33;03m    and let the ToolNode run the tool in the next graph step. If it emits no\u001b[39;00m\n\u001b[32m     24\u001b[39m \u001b[33;03m    tool call but table_text exists, auto-invoke plot_table here.\u001b[39;00m\n\u001b[32m     25\u001b[39m \u001b[33;03m    \"\"\"\u001b[39;00m\n\u001b[32m---> \u001b[39m\u001b[32m26\u001b[39m     ai = \u001b[43mvisualizer_runnable\u001b[49m\u001b[43m.\u001b[49m\u001b[43minvoke\u001b[49m\u001b[43m(\u001b[49m\u001b[43mstate\u001b[49m\u001b[43m)\u001b[49m\n\u001b[32m     27\u001b[39m     \u001b[38;5;66;03m# If the model already requested a tool, return only the AIMessage.\u001b[39;00m\n\u001b[32m     28\u001b[39m     \u001b[38;5;66;03m# The graph's conditional routing should send us to the ToolNode next.\u001b[39;00m\n\u001b[32m     29\u001b[39m     tool_calls = \u001b[38;5;28mgetattr\u001b[39m(ai, \u001b[33m\"\u001b[39m\u001b[33mtool_calls\u001b[39m\u001b[33m\"\u001b[39m, \u001b[38;5;28;01mNone\u001b[39;00m)\n",
      "\u001b[36mFile \u001b[39m\u001b[32me:\\My Projects\\Hegtavic Projects\\Wand_ai\\Multi-agent-task-solver\\backend\\.venv\\Lib\\site-packages\\langchain_core\\runnables\\base.py:3245\u001b[39m, in \u001b[36mRunnableSequence.invoke\u001b[39m\u001b[34m(self, input, config, **kwargs)\u001b[39m\n\u001b[32m   3243\u001b[39m                 input_ = context.run(step.invoke, input_, config, **kwargs)\n\u001b[32m   3244\u001b[39m             \u001b[38;5;28;01melse\u001b[39;00m:\n\u001b[32m-> \u001b[39m\u001b[32m3245\u001b[39m                 input_ = \u001b[43mcontext\u001b[49m\u001b[43m.\u001b[49m\u001b[43mrun\u001b[49m\u001b[43m(\u001b[49m\u001b[43mstep\u001b[49m\u001b[43m.\u001b[49m\u001b[43minvoke\u001b[49m\u001b[43m,\u001b[49m\u001b[43m \u001b[49m\u001b[43minput_\u001b[49m\u001b[43m,\u001b[49m\u001b[43m \u001b[49m\u001b[43mconfig\u001b[49m\u001b[43m)\u001b[49m\n\u001b[32m   3246\u001b[39m \u001b[38;5;66;03m# finish the root run\u001b[39;00m\n\u001b[32m   3247\u001b[39m \u001b[38;5;28;01mexcept\u001b[39;00m \u001b[38;5;167;01mBaseException\u001b[39;00m \u001b[38;5;28;01mas\u001b[39;00m e:\n",
      "\u001b[36mFile \u001b[39m\u001b[32me:\\My Projects\\Hegtavic Projects\\Wand_ai\\Multi-agent-task-solver\\backend\\.venv\\Lib\\site-packages\\langchain_core\\runnables\\base.py:5710\u001b[39m, in \u001b[36mRunnableBindingBase.invoke\u001b[39m\u001b[34m(self, input, config, **kwargs)\u001b[39m\n\u001b[32m   5703\u001b[39m \u001b[38;5;129m@override\u001b[39m\n\u001b[32m   5704\u001b[39m \u001b[38;5;28;01mdef\u001b[39;00m\u001b[38;5;250m \u001b[39m\u001b[34minvoke\u001b[39m(\n\u001b[32m   5705\u001b[39m     \u001b[38;5;28mself\u001b[39m,\n\u001b[32m   (...)\u001b[39m\u001b[32m   5708\u001b[39m     **kwargs: Optional[Any],\n\u001b[32m   5709\u001b[39m ) -> Output:\n\u001b[32m-> \u001b[39m\u001b[32m5710\u001b[39m     \u001b[38;5;28;01mreturn\u001b[39;00m \u001b[38;5;28;43mself\u001b[39;49m\u001b[43m.\u001b[49m\u001b[43mbound\u001b[49m\u001b[43m.\u001b[49m\u001b[43minvoke\u001b[49m\u001b[43m(\u001b[49m\n\u001b[32m   5711\u001b[39m \u001b[43m        \u001b[49m\u001b[38;5;28;43minput\u001b[39;49m\u001b[43m,\u001b[49m\n\u001b[32m   5712\u001b[39m \u001b[43m        \u001b[49m\u001b[38;5;28;43mself\u001b[39;49m\u001b[43m.\u001b[49m\u001b[43m_merge_configs\u001b[49m\u001b[43m(\u001b[49m\u001b[43mconfig\u001b[49m\u001b[43m)\u001b[49m\u001b[43m,\u001b[49m\n\u001b[32m   5713\u001b[39m \u001b[43m        \u001b[49m\u001b[43m*\u001b[49m\u001b[43m*\u001b[49m\u001b[43m{\u001b[49m\u001b[43m*\u001b[49m\u001b[43m*\u001b[49m\u001b[38;5;28;43mself\u001b[39;49m\u001b[43m.\u001b[49m\u001b[43mkwargs\u001b[49m\u001b[43m,\u001b[49m\u001b[43m \u001b[49m\u001b[43m*\u001b[49m\u001b[43m*\u001b[49m\u001b[43mkwargs\u001b[49m\u001b[43m}\u001b[49m\u001b[43m,\u001b[49m\n\u001b[32m   5714\u001b[39m \u001b[43m    \u001b[49m\u001b[43m)\u001b[49m\n",
      "\u001b[36mFile \u001b[39m\u001b[32me:\\My Projects\\Hegtavic Projects\\Wand_ai\\Multi-agent-task-solver\\backend\\.venv\\Lib\\site-packages\\langchain_core\\language_models\\chat_models.py:395\u001b[39m, in \u001b[36mBaseChatModel.invoke\u001b[39m\u001b[34m(self, input, config, stop, **kwargs)\u001b[39m\n\u001b[32m    383\u001b[39m \u001b[38;5;129m@override\u001b[39m\n\u001b[32m    384\u001b[39m \u001b[38;5;28;01mdef\u001b[39;00m\u001b[38;5;250m \u001b[39m\u001b[34minvoke\u001b[39m(\n\u001b[32m    385\u001b[39m     \u001b[38;5;28mself\u001b[39m,\n\u001b[32m   (...)\u001b[39m\u001b[32m    390\u001b[39m     **kwargs: Any,\n\u001b[32m    391\u001b[39m ) -> BaseMessage:\n\u001b[32m    392\u001b[39m     config = ensure_config(config)\n\u001b[32m    393\u001b[39m     \u001b[38;5;28;01mreturn\u001b[39;00m cast(\n\u001b[32m    394\u001b[39m         \u001b[33m\"\u001b[39m\u001b[33mChatGeneration\u001b[39m\u001b[33m\"\u001b[39m,\n\u001b[32m--> \u001b[39m\u001b[32m395\u001b[39m         \u001b[38;5;28;43mself\u001b[39;49m\u001b[43m.\u001b[49m\u001b[43mgenerate_prompt\u001b[49m\u001b[43m(\u001b[49m\n\u001b[32m    396\u001b[39m \u001b[43m            \u001b[49m\u001b[43m[\u001b[49m\u001b[38;5;28;43mself\u001b[39;49m\u001b[43m.\u001b[49m\u001b[43m_convert_input\u001b[49m\u001b[43m(\u001b[49m\u001b[38;5;28;43minput\u001b[39;49m\u001b[43m)\u001b[49m\u001b[43m]\u001b[49m\u001b[43m,\u001b[49m\n\u001b[32m    397\u001b[39m \u001b[43m            \u001b[49m\u001b[43mstop\u001b[49m\u001b[43m=\u001b[49m\u001b[43mstop\u001b[49m\u001b[43m,\u001b[49m\n\u001b[32m    398\u001b[39m \u001b[43m            \u001b[49m\u001b[43mcallbacks\u001b[49m\u001b[43m=\u001b[49m\u001b[43mconfig\u001b[49m\u001b[43m.\u001b[49m\u001b[43mget\u001b[49m\u001b[43m(\u001b[49m\u001b[33;43m\"\u001b[39;49m\u001b[33;43mcallbacks\u001b[39;49m\u001b[33;43m\"\u001b[39;49m\u001b[43m)\u001b[49m\u001b[43m,\u001b[49m\n\u001b[32m    399\u001b[39m \u001b[43m            \u001b[49m\u001b[43mtags\u001b[49m\u001b[43m=\u001b[49m\u001b[43mconfig\u001b[49m\u001b[43m.\u001b[49m\u001b[43mget\u001b[49m\u001b[43m(\u001b[49m\u001b[33;43m\"\u001b[39;49m\u001b[33;43mtags\u001b[39;49m\u001b[33;43m\"\u001b[39;49m\u001b[43m)\u001b[49m\u001b[43m,\u001b[49m\n\u001b[32m    400\u001b[39m \u001b[43m            \u001b[49m\u001b[43mmetadata\u001b[49m\u001b[43m=\u001b[49m\u001b[43mconfig\u001b[49m\u001b[43m.\u001b[49m\u001b[43mget\u001b[49m\u001b[43m(\u001b[49m\u001b[33;43m\"\u001b[39;49m\u001b[33;43mmetadata\u001b[39;49m\u001b[33;43m\"\u001b[39;49m\u001b[43m)\u001b[49m\u001b[43m,\u001b[49m\n\u001b[32m    401\u001b[39m \u001b[43m            \u001b[49m\u001b[43mrun_name\u001b[49m\u001b[43m=\u001b[49m\u001b[43mconfig\u001b[49m\u001b[43m.\u001b[49m\u001b[43mget\u001b[49m\u001b[43m(\u001b[49m\u001b[33;43m\"\u001b[39;49m\u001b[33;43mrun_name\u001b[39;49m\u001b[33;43m\"\u001b[39;49m\u001b[43m)\u001b[49m\u001b[43m,\u001b[49m\n\u001b[32m    402\u001b[39m \u001b[43m            \u001b[49m\u001b[43mrun_id\u001b[49m\u001b[43m=\u001b[49m\u001b[43mconfig\u001b[49m\u001b[43m.\u001b[49m\u001b[43mpop\u001b[49m\u001b[43m(\u001b[49m\u001b[33;43m\"\u001b[39;49m\u001b[33;43mrun_id\u001b[39;49m\u001b[33;43m\"\u001b[39;49m\u001b[43m,\u001b[49m\u001b[43m \u001b[49m\u001b[38;5;28;43;01mNone\u001b[39;49;00m\u001b[43m)\u001b[49m\u001b[43m,\u001b[49m\n\u001b[32m    403\u001b[39m \u001b[43m            \u001b[49m\u001b[43m*\u001b[49m\u001b[43m*\u001b[49m\u001b[43mkwargs\u001b[49m\u001b[43m,\u001b[49m\n\u001b[32m    404\u001b[39m \u001b[43m        \u001b[49m\u001b[43m)\u001b[49m.generations[\u001b[32m0\u001b[39m][\u001b[32m0\u001b[39m],\n\u001b[32m    405\u001b[39m     ).message\n",
      "\u001b[36mFile \u001b[39m\u001b[32me:\\My Projects\\Hegtavic Projects\\Wand_ai\\Multi-agent-task-solver\\backend\\.venv\\Lib\\site-packages\\langchain_core\\language_models\\chat_models.py:1023\u001b[39m, in \u001b[36mBaseChatModel.generate_prompt\u001b[39m\u001b[34m(self, prompts, stop, callbacks, **kwargs)\u001b[39m\n\u001b[32m   1014\u001b[39m \u001b[38;5;129m@override\u001b[39m\n\u001b[32m   1015\u001b[39m \u001b[38;5;28;01mdef\u001b[39;00m\u001b[38;5;250m \u001b[39m\u001b[34mgenerate_prompt\u001b[39m(\n\u001b[32m   1016\u001b[39m     \u001b[38;5;28mself\u001b[39m,\n\u001b[32m   (...)\u001b[39m\u001b[32m   1020\u001b[39m     **kwargs: Any,\n\u001b[32m   1021\u001b[39m ) -> LLMResult:\n\u001b[32m   1022\u001b[39m     prompt_messages = [p.to_messages() \u001b[38;5;28;01mfor\u001b[39;00m p \u001b[38;5;129;01min\u001b[39;00m prompts]\n\u001b[32m-> \u001b[39m\u001b[32m1023\u001b[39m     \u001b[38;5;28;01mreturn\u001b[39;00m \u001b[38;5;28;43mself\u001b[39;49m\u001b[43m.\u001b[49m\u001b[43mgenerate\u001b[49m\u001b[43m(\u001b[49m\u001b[43mprompt_messages\u001b[49m\u001b[43m,\u001b[49m\u001b[43m \u001b[49m\u001b[43mstop\u001b[49m\u001b[43m=\u001b[49m\u001b[43mstop\u001b[49m\u001b[43m,\u001b[49m\u001b[43m \u001b[49m\u001b[43mcallbacks\u001b[49m\u001b[43m=\u001b[49m\u001b[43mcallbacks\u001b[49m\u001b[43m,\u001b[49m\u001b[43m \u001b[49m\u001b[43m*\u001b[49m\u001b[43m*\u001b[49m\u001b[43mkwargs\u001b[49m\u001b[43m)\u001b[49m\n",
      "\u001b[36mFile \u001b[39m\u001b[32me:\\My Projects\\Hegtavic Projects\\Wand_ai\\Multi-agent-task-solver\\backend\\.venv\\Lib\\site-packages\\langchain_core\\language_models\\chat_models.py:840\u001b[39m, in \u001b[36mBaseChatModel.generate\u001b[39m\u001b[34m(self, messages, stop, callbacks, tags, metadata, run_name, run_id, **kwargs)\u001b[39m\n\u001b[32m    837\u001b[39m \u001b[38;5;28;01mfor\u001b[39;00m i, m \u001b[38;5;129;01min\u001b[39;00m \u001b[38;5;28menumerate\u001b[39m(input_messages):\n\u001b[32m    838\u001b[39m     \u001b[38;5;28;01mtry\u001b[39;00m:\n\u001b[32m    839\u001b[39m         results.append(\n\u001b[32m--> \u001b[39m\u001b[32m840\u001b[39m             \u001b[38;5;28;43mself\u001b[39;49m\u001b[43m.\u001b[49m\u001b[43m_generate_with_cache\u001b[49m\u001b[43m(\u001b[49m\n\u001b[32m    841\u001b[39m \u001b[43m                \u001b[49m\u001b[43mm\u001b[49m\u001b[43m,\u001b[49m\n\u001b[32m    842\u001b[39m \u001b[43m                \u001b[49m\u001b[43mstop\u001b[49m\u001b[43m=\u001b[49m\u001b[43mstop\u001b[49m\u001b[43m,\u001b[49m\n\u001b[32m    843\u001b[39m \u001b[43m                \u001b[49m\u001b[43mrun_manager\u001b[49m\u001b[43m=\u001b[49m\u001b[43mrun_managers\u001b[49m\u001b[43m[\u001b[49m\u001b[43mi\u001b[49m\u001b[43m]\u001b[49m\u001b[43m \u001b[49m\u001b[38;5;28;43;01mif\u001b[39;49;00m\u001b[43m \u001b[49m\u001b[43mrun_managers\u001b[49m\u001b[43m \u001b[49m\u001b[38;5;28;43;01melse\u001b[39;49;00m\u001b[43m \u001b[49m\u001b[38;5;28;43;01mNone\u001b[39;49;00m\u001b[43m,\u001b[49m\n\u001b[32m    844\u001b[39m \u001b[43m                \u001b[49m\u001b[43m*\u001b[49m\u001b[43m*\u001b[49m\u001b[43mkwargs\u001b[49m\u001b[43m,\u001b[49m\n\u001b[32m    845\u001b[39m \u001b[43m            \u001b[49m\u001b[43m)\u001b[49m\n\u001b[32m    846\u001b[39m         )\n\u001b[32m    847\u001b[39m     \u001b[38;5;28;01mexcept\u001b[39;00m \u001b[38;5;167;01mBaseException\u001b[39;00m \u001b[38;5;28;01mas\u001b[39;00m e:\n\u001b[32m    848\u001b[39m         \u001b[38;5;28;01mif\u001b[39;00m run_managers:\n",
      "\u001b[36mFile \u001b[39m\u001b[32me:\\My Projects\\Hegtavic Projects\\Wand_ai\\Multi-agent-task-solver\\backend\\.venv\\Lib\\site-packages\\langchain_core\\language_models\\chat_models.py:1089\u001b[39m, in \u001b[36mBaseChatModel._generate_with_cache\u001b[39m\u001b[34m(self, messages, stop, run_manager, **kwargs)\u001b[39m\n\u001b[32m   1087\u001b[39m     result = generate_from_stream(\u001b[38;5;28miter\u001b[39m(chunks))\n\u001b[32m   1088\u001b[39m \u001b[38;5;28;01melif\u001b[39;00m inspect.signature(\u001b[38;5;28mself\u001b[39m._generate).parameters.get(\u001b[33m\"\u001b[39m\u001b[33mrun_manager\u001b[39m\u001b[33m\"\u001b[39m):\n\u001b[32m-> \u001b[39m\u001b[32m1089\u001b[39m     result = \u001b[38;5;28;43mself\u001b[39;49m\u001b[43m.\u001b[49m\u001b[43m_generate\u001b[49m\u001b[43m(\u001b[49m\n\u001b[32m   1090\u001b[39m \u001b[43m        \u001b[49m\u001b[43mmessages\u001b[49m\u001b[43m,\u001b[49m\u001b[43m \u001b[49m\u001b[43mstop\u001b[49m\u001b[43m=\u001b[49m\u001b[43mstop\u001b[49m\u001b[43m,\u001b[49m\u001b[43m \u001b[49m\u001b[43mrun_manager\u001b[49m\u001b[43m=\u001b[49m\u001b[43mrun_manager\u001b[49m\u001b[43m,\u001b[49m\u001b[43m \u001b[49m\u001b[43m*\u001b[49m\u001b[43m*\u001b[49m\u001b[43mkwargs\u001b[49m\n\u001b[32m   1091\u001b[39m \u001b[43m    \u001b[49m\u001b[43m)\u001b[49m\n\u001b[32m   1092\u001b[39m \u001b[38;5;28;01melse\u001b[39;00m:\n\u001b[32m   1093\u001b[39m     result = \u001b[38;5;28mself\u001b[39m._generate(messages, stop=stop, **kwargs)\n",
      "\u001b[36mFile \u001b[39m\u001b[32me:\\My Projects\\Hegtavic Projects\\Wand_ai\\Multi-agent-task-solver\\backend\\.venv\\Lib\\site-packages\\langchain_anthropic\\chat_models.py:1762\u001b[39m, in \u001b[36mChatAnthropic._generate\u001b[39m\u001b[34m(self, messages, stop, run_manager, **kwargs)\u001b[39m\n\u001b[32m   1760\u001b[39m     data = \u001b[38;5;28mself\u001b[39m._create(payload)\n\u001b[32m   1761\u001b[39m \u001b[38;5;28;01mexcept\u001b[39;00m anthropic.BadRequestError \u001b[38;5;28;01mas\u001b[39;00m e:\n\u001b[32m-> \u001b[39m\u001b[32m1762\u001b[39m     \u001b[43m_handle_anthropic_bad_request\u001b[49m\u001b[43m(\u001b[49m\u001b[43me\u001b[49m\u001b[43m)\u001b[49m\n\u001b[32m   1763\u001b[39m \u001b[38;5;28;01mreturn\u001b[39;00m \u001b[38;5;28mself\u001b[39m._format_output(data, **kwargs)\n",
      "\u001b[36mFile \u001b[39m\u001b[32me:\\My Projects\\Hegtavic Projects\\Wand_ai\\Multi-agent-task-solver\\backend\\.venv\\Lib\\site-packages\\langchain_anthropic\\chat_models.py:1760\u001b[39m, in \u001b[36mChatAnthropic._generate\u001b[39m\u001b[34m(self, messages, stop, run_manager, **kwargs)\u001b[39m\n\u001b[32m   1758\u001b[39m payload = \u001b[38;5;28mself\u001b[39m._get_request_payload(messages, stop=stop, **kwargs)\n\u001b[32m   1759\u001b[39m \u001b[38;5;28;01mtry\u001b[39;00m:\n\u001b[32m-> \u001b[39m\u001b[32m1760\u001b[39m     data = \u001b[38;5;28;43mself\u001b[39;49m\u001b[43m.\u001b[49m\u001b[43m_create\u001b[49m\u001b[43m(\u001b[49m\u001b[43mpayload\u001b[49m\u001b[43m)\u001b[49m\n\u001b[32m   1761\u001b[39m \u001b[38;5;28;01mexcept\u001b[39;00m anthropic.BadRequestError \u001b[38;5;28;01mas\u001b[39;00m e:\n\u001b[32m   1762\u001b[39m     _handle_anthropic_bad_request(e)\n",
      "\u001b[36mFile \u001b[39m\u001b[32me:\\My Projects\\Hegtavic Projects\\Wand_ai\\Multi-agent-task-solver\\backend\\.venv\\Lib\\site-packages\\langchain_anthropic\\chat_models.py:1619\u001b[39m, in \u001b[36mChatAnthropic._create\u001b[39m\u001b[34m(self, payload)\u001b[39m\n\u001b[32m   1617\u001b[39m \u001b[38;5;28;01mif\u001b[39;00m \u001b[33m\"\u001b[39m\u001b[33mbetas\u001b[39m\u001b[33m\"\u001b[39m \u001b[38;5;129;01min\u001b[39;00m payload:\n\u001b[32m   1618\u001b[39m     \u001b[38;5;28;01mreturn\u001b[39;00m \u001b[38;5;28mself\u001b[39m._client.beta.messages.create(**payload)\n\u001b[32m-> \u001b[39m\u001b[32m1619\u001b[39m \u001b[38;5;28;01mreturn\u001b[39;00m \u001b[38;5;28;43mself\u001b[39;49m\u001b[43m.\u001b[49m\u001b[43m_client\u001b[49m\u001b[43m.\u001b[49m\u001b[43mmessages\u001b[49m\u001b[43m.\u001b[49m\u001b[43mcreate\u001b[49m\u001b[43m(\u001b[49m\u001b[43m*\u001b[49m\u001b[43m*\u001b[49m\u001b[43mpayload\u001b[49m\u001b[43m)\u001b[49m\n",
      "\u001b[36mFile \u001b[39m\u001b[32me:\\My Projects\\Hegtavic Projects\\Wand_ai\\Multi-agent-task-solver\\backend\\.venv\\Lib\\site-packages\\anthropic\\_utils\\_utils.py:282\u001b[39m, in \u001b[36mrequired_args.<locals>.inner.<locals>.wrapper\u001b[39m\u001b[34m(*args, **kwargs)\u001b[39m\n\u001b[32m    280\u001b[39m             msg = \u001b[33mf\u001b[39m\u001b[33m\"\u001b[39m\u001b[33mMissing required argument: \u001b[39m\u001b[38;5;132;01m{\u001b[39;00mquote(missing[\u001b[32m0\u001b[39m])\u001b[38;5;132;01m}\u001b[39;00m\u001b[33m\"\u001b[39m\n\u001b[32m    281\u001b[39m     \u001b[38;5;28;01mraise\u001b[39;00m \u001b[38;5;167;01mTypeError\u001b[39;00m(msg)\n\u001b[32m--> \u001b[39m\u001b[32m282\u001b[39m \u001b[38;5;28;01mreturn\u001b[39;00m \u001b[43mfunc\u001b[49m\u001b[43m(\u001b[49m\u001b[43m*\u001b[49m\u001b[43margs\u001b[49m\u001b[43m,\u001b[49m\u001b[43m \u001b[49m\u001b[43m*\u001b[49m\u001b[43m*\u001b[49m\u001b[43mkwargs\u001b[49m\u001b[43m)\u001b[49m\n",
      "\u001b[36mFile \u001b[39m\u001b[32me:\\My Projects\\Hegtavic Projects\\Wand_ai\\Multi-agent-task-solver\\backend\\.venv\\Lib\\site-packages\\anthropic\\resources\\messages\\messages.py:930\u001b[39m, in \u001b[36mMessages.create\u001b[39m\u001b[34m(self, max_tokens, messages, model, metadata, service_tier, stop_sequences, stream, system, temperature, thinking, tool_choice, tools, top_k, top_p, extra_headers, extra_query, extra_body, timeout)\u001b[39m\n\u001b[32m    923\u001b[39m \u001b[38;5;28;01mif\u001b[39;00m model \u001b[38;5;129;01min\u001b[39;00m DEPRECATED_MODELS:\n\u001b[32m    924\u001b[39m     warnings.warn(\n\u001b[32m    925\u001b[39m         \u001b[33mf\u001b[39m\u001b[33m\"\u001b[39m\u001b[33mThe model \u001b[39m\u001b[33m'\u001b[39m\u001b[38;5;132;01m{\u001b[39;00mmodel\u001b[38;5;132;01m}\u001b[39;00m\u001b[33m'\u001b[39m\u001b[33m is deprecated and will reach end-of-life on \u001b[39m\u001b[38;5;132;01m{\u001b[39;00mDEPRECATED_MODELS[model]\u001b[38;5;132;01m}\u001b[39;00m\u001b[33m.\u001b[39m\u001b[38;5;130;01m\\n\u001b[39;00m\u001b[33mPlease migrate to a newer model. Visit https://docs.anthropic.com/en/docs/resources/model-deprecations for more information.\u001b[39m\u001b[33m\"\u001b[39m,\n\u001b[32m    926\u001b[39m         \u001b[38;5;167;01mDeprecationWarning\u001b[39;00m,\n\u001b[32m    927\u001b[39m         stacklevel=\u001b[32m3\u001b[39m,\n\u001b[32m    928\u001b[39m     )\n\u001b[32m--> \u001b[39m\u001b[32m930\u001b[39m \u001b[38;5;28;01mreturn\u001b[39;00m \u001b[38;5;28;43mself\u001b[39;49m\u001b[43m.\u001b[49m\u001b[43m_post\u001b[49m\u001b[43m(\u001b[49m\n\u001b[32m    931\u001b[39m \u001b[43m    \u001b[49m\u001b[33;43m\"\u001b[39;49m\u001b[33;43m/v1/messages\u001b[39;49m\u001b[33;43m\"\u001b[39;49m\u001b[43m,\u001b[49m\n\u001b[32m    932\u001b[39m \u001b[43m    \u001b[49m\u001b[43mbody\u001b[49m\u001b[43m=\u001b[49m\u001b[43mmaybe_transform\u001b[49m\u001b[43m(\u001b[49m\n\u001b[32m    933\u001b[39m \u001b[43m        \u001b[49m\u001b[43m{\u001b[49m\n\u001b[32m    934\u001b[39m \u001b[43m            \u001b[49m\u001b[33;43m\"\u001b[39;49m\u001b[33;43mmax_tokens\u001b[39;49m\u001b[33;43m\"\u001b[39;49m\u001b[43m:\u001b[49m\u001b[43m \u001b[49m\u001b[43mmax_tokens\u001b[49m\u001b[43m,\u001b[49m\n\u001b[32m    935\u001b[39m \u001b[43m            \u001b[49m\u001b[33;43m\"\u001b[39;49m\u001b[33;43mmessages\u001b[39;49m\u001b[33;43m\"\u001b[39;49m\u001b[43m:\u001b[49m\u001b[43m \u001b[49m\u001b[43mmessages\u001b[49m\u001b[43m,\u001b[49m\n\u001b[32m    936\u001b[39m \u001b[43m            \u001b[49m\u001b[33;43m\"\u001b[39;49m\u001b[33;43mmodel\u001b[39;49m\u001b[33;43m\"\u001b[39;49m\u001b[43m:\u001b[49m\u001b[43m \u001b[49m\u001b[43mmodel\u001b[49m\u001b[43m,\u001b[49m\n\u001b[32m    937\u001b[39m \u001b[43m            \u001b[49m\u001b[33;43m\"\u001b[39;49m\u001b[33;43mmetadata\u001b[39;49m\u001b[33;43m\"\u001b[39;49m\u001b[43m:\u001b[49m\u001b[43m \u001b[49m\u001b[43mmetadata\u001b[49m\u001b[43m,\u001b[49m\n\u001b[32m    938\u001b[39m \u001b[43m            \u001b[49m\u001b[33;43m\"\u001b[39;49m\u001b[33;43mservice_tier\u001b[39;49m\u001b[33;43m\"\u001b[39;49m\u001b[43m:\u001b[49m\u001b[43m \u001b[49m\u001b[43mservice_tier\u001b[49m\u001b[43m,\u001b[49m\n\u001b[32m    939\u001b[39m \u001b[43m            \u001b[49m\u001b[33;43m\"\u001b[39;49m\u001b[33;43mstop_sequences\u001b[39;49m\u001b[33;43m\"\u001b[39;49m\u001b[43m:\u001b[49m\u001b[43m \u001b[49m\u001b[43mstop_sequences\u001b[49m\u001b[43m,\u001b[49m\n\u001b[32m    940\u001b[39m \u001b[43m            \u001b[49m\u001b[33;43m\"\u001b[39;49m\u001b[33;43mstream\u001b[39;49m\u001b[33;43m\"\u001b[39;49m\u001b[43m:\u001b[49m\u001b[43m \u001b[49m\u001b[43mstream\u001b[49m\u001b[43m,\u001b[49m\n\u001b[32m    941\u001b[39m \u001b[43m            \u001b[49m\u001b[33;43m\"\u001b[39;49m\u001b[33;43msystem\u001b[39;49m\u001b[33;43m\"\u001b[39;49m\u001b[43m:\u001b[49m\u001b[43m \u001b[49m\u001b[43msystem\u001b[49m\u001b[43m,\u001b[49m\n\u001b[32m    942\u001b[39m \u001b[43m            \u001b[49m\u001b[33;43m\"\u001b[39;49m\u001b[33;43mtemperature\u001b[39;49m\u001b[33;43m\"\u001b[39;49m\u001b[43m:\u001b[49m\u001b[43m \u001b[49m\u001b[43mtemperature\u001b[49m\u001b[43m,\u001b[49m\n\u001b[32m    943\u001b[39m \u001b[43m            \u001b[49m\u001b[33;43m\"\u001b[39;49m\u001b[33;43mthinking\u001b[39;49m\u001b[33;43m\"\u001b[39;49m\u001b[43m:\u001b[49m\u001b[43m \u001b[49m\u001b[43mthinking\u001b[49m\u001b[43m,\u001b[49m\n\u001b[32m    944\u001b[39m \u001b[43m            \u001b[49m\u001b[33;43m\"\u001b[39;49m\u001b[33;43mtool_choice\u001b[39;49m\u001b[33;43m\"\u001b[39;49m\u001b[43m:\u001b[49m\u001b[43m \u001b[49m\u001b[43mtool_choice\u001b[49m\u001b[43m,\u001b[49m\n\u001b[32m    945\u001b[39m \u001b[43m            \u001b[49m\u001b[33;43m\"\u001b[39;49m\u001b[33;43mtools\u001b[39;49m\u001b[33;43m\"\u001b[39;49m\u001b[43m:\u001b[49m\u001b[43m \u001b[49m\u001b[43mtools\u001b[49m\u001b[43m,\u001b[49m\n\u001b[32m    946\u001b[39m \u001b[43m            \u001b[49m\u001b[33;43m\"\u001b[39;49m\u001b[33;43mtop_k\u001b[39;49m\u001b[33;43m\"\u001b[39;49m\u001b[43m:\u001b[49m\u001b[43m \u001b[49m\u001b[43mtop_k\u001b[49m\u001b[43m,\u001b[49m\n\u001b[32m    947\u001b[39m \u001b[43m            \u001b[49m\u001b[33;43m\"\u001b[39;49m\u001b[33;43mtop_p\u001b[39;49m\u001b[33;43m\"\u001b[39;49m\u001b[43m:\u001b[49m\u001b[43m \u001b[49m\u001b[43mtop_p\u001b[49m\u001b[43m,\u001b[49m\n\u001b[32m    948\u001b[39m \u001b[43m        \u001b[49m\u001b[43m}\u001b[49m\u001b[43m,\u001b[49m\n\u001b[32m    949\u001b[39m \u001b[43m        \u001b[49m\u001b[43mmessage_create_params\u001b[49m\u001b[43m.\u001b[49m\u001b[43mMessageCreateParamsStreaming\u001b[49m\n\u001b[32m    950\u001b[39m \u001b[43m        \u001b[49m\u001b[38;5;28;43;01mif\u001b[39;49;00m\u001b[43m \u001b[49m\u001b[43mstream\u001b[49m\n\u001b[32m    951\u001b[39m \u001b[43m        \u001b[49m\u001b[38;5;28;43;01melse\u001b[39;49;00m\u001b[43m \u001b[49m\u001b[43mmessage_create_params\u001b[49m\u001b[43m.\u001b[49m\u001b[43mMessageCreateParamsNonStreaming\u001b[49m\u001b[43m,\u001b[49m\n\u001b[32m    952\u001b[39m \u001b[43m    \u001b[49m\u001b[43m)\u001b[49m\u001b[43m,\u001b[49m\n\u001b[32m    953\u001b[39m \u001b[43m    \u001b[49m\u001b[43moptions\u001b[49m\u001b[43m=\u001b[49m\u001b[43mmake_request_options\u001b[49m\u001b[43m(\u001b[49m\n\u001b[32m    954\u001b[39m \u001b[43m        \u001b[49m\u001b[43mextra_headers\u001b[49m\u001b[43m=\u001b[49m\u001b[43mextra_headers\u001b[49m\u001b[43m,\u001b[49m\u001b[43m \u001b[49m\u001b[43mextra_query\u001b[49m\u001b[43m=\u001b[49m\u001b[43mextra_query\u001b[49m\u001b[43m,\u001b[49m\u001b[43m \u001b[49m\u001b[43mextra_body\u001b[49m\u001b[43m=\u001b[49m\u001b[43mextra_body\u001b[49m\u001b[43m,\u001b[49m\u001b[43m \u001b[49m\u001b[43mtimeout\u001b[49m\u001b[43m=\u001b[49m\u001b[43mtimeout\u001b[49m\n\u001b[32m    955\u001b[39m \u001b[43m    \u001b[49m\u001b[43m)\u001b[49m\u001b[43m,\u001b[49m\n\u001b[32m    956\u001b[39m \u001b[43m    \u001b[49m\u001b[43mcast_to\u001b[49m\u001b[43m=\u001b[49m\u001b[43mMessage\u001b[49m\u001b[43m,\u001b[49m\n\u001b[32m    957\u001b[39m \u001b[43m    \u001b[49m\u001b[43mstream\u001b[49m\u001b[43m=\u001b[49m\u001b[43mstream\u001b[49m\u001b[43m \u001b[49m\u001b[38;5;129;43;01mor\u001b[39;49;00m\u001b[43m \u001b[49m\u001b[38;5;28;43;01mFalse\u001b[39;49;00m\u001b[43m,\u001b[49m\n\u001b[32m    958\u001b[39m \u001b[43m    \u001b[49m\u001b[43mstream_cls\u001b[49m\u001b[43m=\u001b[49m\u001b[43mStream\u001b[49m\u001b[43m[\u001b[49m\u001b[43mRawMessageStreamEvent\u001b[49m\u001b[43m]\u001b[49m\u001b[43m,\u001b[49m\n\u001b[32m    959\u001b[39m \u001b[43m\u001b[49m\u001b[43m)\u001b[49m\n",
      "\u001b[36mFile \u001b[39m\u001b[32me:\\My Projects\\Hegtavic Projects\\Wand_ai\\Multi-agent-task-solver\\backend\\.venv\\Lib\\site-packages\\anthropic\\_base_client.py:1324\u001b[39m, in \u001b[36mSyncAPIClient.post\u001b[39m\u001b[34m(self, path, cast_to, body, options, files, stream, stream_cls)\u001b[39m\n\u001b[32m   1310\u001b[39m \u001b[38;5;28;01mdef\u001b[39;00m\u001b[38;5;250m \u001b[39m\u001b[34mpost\u001b[39m(\n\u001b[32m   1311\u001b[39m     \u001b[38;5;28mself\u001b[39m,\n\u001b[32m   1312\u001b[39m     path: \u001b[38;5;28mstr\u001b[39m,\n\u001b[32m   (...)\u001b[39m\u001b[32m   1319\u001b[39m     stream_cls: \u001b[38;5;28mtype\u001b[39m[_StreamT] | \u001b[38;5;28;01mNone\u001b[39;00m = \u001b[38;5;28;01mNone\u001b[39;00m,\n\u001b[32m   1320\u001b[39m ) -> ResponseT | _StreamT:\n\u001b[32m   1321\u001b[39m     opts = FinalRequestOptions.construct(\n\u001b[32m   1322\u001b[39m         method=\u001b[33m\"\u001b[39m\u001b[33mpost\u001b[39m\u001b[33m\"\u001b[39m, url=path, json_data=body, files=to_httpx_files(files), **options\n\u001b[32m   1323\u001b[39m     )\n\u001b[32m-> \u001b[39m\u001b[32m1324\u001b[39m     \u001b[38;5;28;01mreturn\u001b[39;00m cast(ResponseT, \u001b[38;5;28;43mself\u001b[39;49m\u001b[43m.\u001b[49m\u001b[43mrequest\u001b[49m\u001b[43m(\u001b[49m\u001b[43mcast_to\u001b[49m\u001b[43m,\u001b[49m\u001b[43m \u001b[49m\u001b[43mopts\u001b[49m\u001b[43m,\u001b[49m\u001b[43m \u001b[49m\u001b[43mstream\u001b[49m\u001b[43m=\u001b[49m\u001b[43mstream\u001b[49m\u001b[43m,\u001b[49m\u001b[43m \u001b[49m\u001b[43mstream_cls\u001b[49m\u001b[43m=\u001b[49m\u001b[43mstream_cls\u001b[49m\u001b[43m)\u001b[49m)\n",
      "\u001b[36mFile \u001b[39m\u001b[32me:\\My Projects\\Hegtavic Projects\\Wand_ai\\Multi-agent-task-solver\\backend\\.venv\\Lib\\site-packages\\anthropic\\_base_client.py:1112\u001b[39m, in \u001b[36mSyncAPIClient.request\u001b[39m\u001b[34m(self, cast_to, options, stream, stream_cls)\u001b[39m\n\u001b[32m   1109\u001b[39m             err.response.read()\n\u001b[32m   1111\u001b[39m         log.debug(\u001b[33m\"\u001b[39m\u001b[33mRe-raising status error\u001b[39m\u001b[33m\"\u001b[39m)\n\u001b[32m-> \u001b[39m\u001b[32m1112\u001b[39m         \u001b[38;5;28;01mraise\u001b[39;00m \u001b[38;5;28mself\u001b[39m._make_status_error_from_response(err.response) \u001b[38;5;28;01mfrom\u001b[39;00m\u001b[38;5;250m \u001b[39m\u001b[38;5;28;01mNone\u001b[39;00m\n\u001b[32m   1114\u001b[39m     \u001b[38;5;28;01mbreak\u001b[39;00m\n\u001b[32m   1116\u001b[39m \u001b[38;5;28;01massert\u001b[39;00m response \u001b[38;5;129;01mis\u001b[39;00m \u001b[38;5;129;01mnot\u001b[39;00m \u001b[38;5;28;01mNone\u001b[39;00m, \u001b[33m\"\u001b[39m\u001b[33mcould not resolve response (should never happen)\u001b[39m\u001b[33m\"\u001b[39m\n",
      "\u001b[31mBadRequestError\u001b[39m: Error code: 400 - {'type': 'error', 'error': {'type': 'invalid_request_error', 'message': 'messages.3: `tool_use` ids were found without `tool_result` blocks immediately after: toolu_01Ep7TBQQyVwAwE8NXdXdrVj. Each `tool_use` block must have a corresponding `tool_result` block in the next message.'}, 'request_id': 'req_011CTfZifeSTbDcQykKN36tu'}",
      "During task with name 'visualizer_agent' and id 'bfbb907a-2d05-5cc2-b420-f364f62afc6a'"
     ]
    }
   ],
   "source": [
    "import os\n",
    "import time\n",
    "from langchain_core.messages import HumanMessage, ToolMessage\n",
    "\n",
    "# ---------------------------\n",
    "# Example runs\n",
    "# ---------------------------\n",
    "if __name__ == \"__main__\":\n",
    "    # Quick env check\n",
    "    if not os.environ.get(\"TAVILY_API_KEY\"):\n",
    "        print(\"WARNING: TAVILY_API_KEY missing in environment (set it to run web_search).\")\n",
    "\n",
    "    # Example 1: research-only\n",
    "    inputs = {\n",
    "        \"messages\": [HumanMessage(content=\"Find 2 recent stats on EV adoption in Pakistan and summarize.\")],\n",
    "        \"mode\": \"research\"\n",
    "    }\n",
    "    out = app.invoke(inputs)\n",
    "    print(\"\\n--- Research-only final ---\")\n",
    "    final = last_nonempty_ai_message(out[\"messages\"])\n",
    "    print(final.content if final else \"(no non-empty AI message)\")\n",
    "\n",
    "    time.sleep(2)  # <-- delay between runs\n",
    "\n",
    "    # Example 2: summary-only\n",
    "    inputs2 = {\n",
    "        \"messages\": [HumanMessage(content=\"Find 2 recent stats on EV adoption in Pakistan and summarize.\")],\n",
    "        \"mode\": \"summary\"\n",
    "    }\n",
    "    out2 = app.invoke(inputs2)\n",
    "    print(\"\\n--- Summary-only final ---\")\n",
    "    final2 = last_nonempty_ai_message(out2[\"messages\"])\n",
    "    print(final2.content if final2 else \"(no non-empty AI message)\")\n",
    "\n",
    "    time.sleep(2)  # <-- delay between runs\n",
    "\n",
    "    # Example 3: visualize with CSV provided\n",
    "    csv_text = \"year,ev_count\\n2018,1000\\n2019,3000\\n2020,7000\\n2021,15000\\n2022,23000\\n\"\n",
    "    inputs3 = {\n",
    "        \"messages\": [HumanMessage(content=\"Please visualize the table below.\\n\\n\" + csv_text)],\n",
    "        \"mode\": \"visualize\",\n",
    "        \"table_text\": csv_text\n",
    "    }\n",
    "    out3 = app.invoke(inputs3)\n",
    "    print(\"\\n--- Visualize final ---\")\n",
    "    final3 = last_nonempty_ai_message(out3[\"messages\"])\n",
    "    print(final3.content if final3 else \"(no non-empty AI message)\")\n",
    "\n",
    "    # Look for produced ToolMessage(s) with plot output\n",
    "    for m in out3[\"messages\"]:\n",
    "        if isinstance(m, ToolMessage) and getattr(m, \"name\", \"\") == \"plot_table\":\n",
    "            print(\"Plot produced at:\", getattr(m, \"content\", None))\n"
   ]
  },
  {
   "cell_type": "code",
   "execution_count": null,
   "id": "81a64fff",
   "metadata": {},
   "outputs": [],
   "source": []
  },
  {
   "cell_type": "code",
   "execution_count": null,
   "id": "cc351a4b",
   "metadata": {},
   "outputs": [],
   "source": []
  }
 ],
 "metadata": {
  "kernelspec": {
   "display_name": "Python 3",
   "language": "python",
   "name": "python3"
  },
  "language_info": {
   "codemirror_mode": {
    "name": "ipython",
    "version": 3
   },
   "file_extension": ".py",
   "mimetype": "text/x-python",
   "name": "python",
   "nbconvert_exporter": "python",
   "pygments_lexer": "ipython3",
   "version": "3.12.10"
  }
 },
 "nbformat": 4,
 "nbformat_minor": 5
}
